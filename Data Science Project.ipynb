{
 "cells": [
  {
   "cell_type": "code",
   "execution_count": 1,
   "id": "00380544",
   "metadata": {},
   "outputs": [],
   "source": [
    "#### Dataframe"
   ]
  },
  {
   "cell_type": "code",
   "execution_count": 2,
   "id": "9b9945bc",
   "metadata": {},
   "outputs": [],
   "source": [
    "import pandas as pd"
   ]
  },
  {
   "cell_type": "code",
   "execution_count": 3,
   "id": "519cdfb8",
   "metadata": {},
   "outputs": [],
   "source": [
    "#### Loading Review Data and Metadata"
   ]
  },
  {
   "cell_type": "code",
   "execution_count": 4,
   "id": "a1dd26b1",
   "metadata": {},
   "outputs": [
    {
     "name": "stdout",
     "output_type": "stream",
     "text": [
      " Volume in drive C has no label.\n",
      " Volume Serial Number is E440-5024\n",
      "\n",
      " Directory of C:\\Users\\Hp\\OneDrive\\Desktop\\Data Science Project\n",
      "\n",
      "04/20/2022  05:22 PM    <DIR>          .\n",
      "04/20/2022  04:52 PM    <DIR>          ..\n",
      "03/19/2022  04:14 PM    <DIR>          .ipynb_checkpoints\n",
      "03/19/2022  04:21 PM    <DIR>          All_Beauty\n",
      "03/19/2022  04:07 PM        47,350,910 All_Beauty.json.gz\n",
      "10/02/2019  12:57 PM       171,042,038 allbeauty.json\n",
      "04/20/2022  04:47 PM           492,360 Data Science Project Prajyot.ipynb\n",
      "04/20/2022  05:22 PM           501,731 Data Science Project.ipynb\n",
      "04/20/2022  05:13 PM             1,208 df_hyp.csv\n",
      "05/17/2021  04:22 AM        66,409,104 meta.json\n",
      "03/19/2022  05:40 PM    <DIR>          meta_All_Beauty\n",
      "03/19/2022  04:07 PM        10,329,961 meta_All_Beauty.json.gz\n",
      "04/20/2022  05:12 PM       416,476,885 product_reviews.csv\n",
      "01/25/2022  10:16 PM            52,351 Project Instructions.pdf\n",
      "01/25/2022  10:16 PM            38,802 Project-idea.docx.pdf\n",
      "              10 File(s)    712,695,350 bytes\n",
      "               5 Dir(s)  293,825,314,816 bytes free\n"
     ]
    }
   ],
   "source": [
    "ls"
   ]
  },
  {
   "cell_type": "code",
   "execution_count": 5,
   "id": "746e09c5",
   "metadata": {},
   "outputs": [],
   "source": [
    "import json"
   ]
  },
  {
   "cell_type": "code",
   "execution_count": 6,
   "id": "3d84950a",
   "metadata": {
    "scrolled": true
   },
   "outputs": [],
   "source": [
    "## df_review = pd.read_json('allbeauty.json', orient='records', lines=True)\n",
    "\n",
    "#### Import All Beauty Product Review Data In Pandas\n",
    "\n",
    "df_review = pd.read_json(open(\"C:/Users/Hp/OneDrive/Desktop/Data Science Project/allbeauty.json\", \"r\", encoding=\"utf8\"),lines=True)"
   ]
  },
  {
   "cell_type": "code",
   "execution_count": 7,
   "id": "91fad1ee",
   "metadata": {
    "scrolled": true
   },
   "outputs": [
    {
     "data": {
      "text/html": [
       "<div>\n",
       "<style scoped>\n",
       "    .dataframe tbody tr th:only-of-type {\n",
       "        vertical-align: middle;\n",
       "    }\n",
       "\n",
       "    .dataframe tbody tr th {\n",
       "        vertical-align: top;\n",
       "    }\n",
       "\n",
       "    .dataframe thead th {\n",
       "        text-align: right;\n",
       "    }\n",
       "</style>\n",
       "<table border=\"1\" class=\"dataframe\">\n",
       "  <thead>\n",
       "    <tr style=\"text-align: right;\">\n",
       "      <th></th>\n",
       "      <th>overall</th>\n",
       "      <th>verified</th>\n",
       "      <th>reviewTime</th>\n",
       "      <th>reviewerID</th>\n",
       "      <th>asin</th>\n",
       "      <th>reviewerName</th>\n",
       "      <th>reviewText</th>\n",
       "      <th>summary</th>\n",
       "      <th>unixReviewTime</th>\n",
       "      <th>vote</th>\n",
       "      <th>style</th>\n",
       "      <th>image</th>\n",
       "    </tr>\n",
       "  </thead>\n",
       "  <tbody>\n",
       "    <tr>\n",
       "      <th>0</th>\n",
       "      <td>1</td>\n",
       "      <td>True</td>\n",
       "      <td>02 19, 2015</td>\n",
       "      <td>A1V6B6TNIC10QE</td>\n",
       "      <td>0143026860</td>\n",
       "      <td>theodore j bigham</td>\n",
       "      <td>great</td>\n",
       "      <td>One Star</td>\n",
       "      <td>1424304000</td>\n",
       "      <td>NaN</td>\n",
       "      <td>NaN</td>\n",
       "      <td>NaN</td>\n",
       "    </tr>\n",
       "    <tr>\n",
       "      <th>1</th>\n",
       "      <td>4</td>\n",
       "      <td>True</td>\n",
       "      <td>12 18, 2014</td>\n",
       "      <td>A2F5GHSXFQ0W6J</td>\n",
       "      <td>0143026860</td>\n",
       "      <td>Mary K. Byke</td>\n",
       "      <td>My  husband wanted to reading about the Negro ...</td>\n",
       "      <td>... to reading about the Negro Baseball and th...</td>\n",
       "      <td>1418860800</td>\n",
       "      <td>NaN</td>\n",
       "      <td>NaN</td>\n",
       "      <td>NaN</td>\n",
       "    </tr>\n",
       "    <tr>\n",
       "      <th>2</th>\n",
       "      <td>4</td>\n",
       "      <td>True</td>\n",
       "      <td>08 10, 2014</td>\n",
       "      <td>A1572GUYS7DGSR</td>\n",
       "      <td>0143026860</td>\n",
       "      <td>David G</td>\n",
       "      <td>This book was very informative, covering all a...</td>\n",
       "      <td>Worth the Read</td>\n",
       "      <td>1407628800</td>\n",
       "      <td>NaN</td>\n",
       "      <td>NaN</td>\n",
       "      <td>NaN</td>\n",
       "    </tr>\n",
       "    <tr>\n",
       "      <th>3</th>\n",
       "      <td>5</td>\n",
       "      <td>True</td>\n",
       "      <td>03 11, 2013</td>\n",
       "      <td>A1PSGLFK1NSVO</td>\n",
       "      <td>0143026860</td>\n",
       "      <td>TamB</td>\n",
       "      <td>I am already a baseball fan and knew a bit abo...</td>\n",
       "      <td>Good Read</td>\n",
       "      <td>1362960000</td>\n",
       "      <td>NaN</td>\n",
       "      <td>NaN</td>\n",
       "      <td>NaN</td>\n",
       "    </tr>\n",
       "    <tr>\n",
       "      <th>4</th>\n",
       "      <td>5</td>\n",
       "      <td>True</td>\n",
       "      <td>12 25, 2011</td>\n",
       "      <td>A6IKXKZMTKGSC</td>\n",
       "      <td>0143026860</td>\n",
       "      <td>shoecanary</td>\n",
       "      <td>This was a good story of the Black leagues. I ...</td>\n",
       "      <td>More than facts, a good story read!</td>\n",
       "      <td>1324771200</td>\n",
       "      <td>5</td>\n",
       "      <td>NaN</td>\n",
       "      <td>NaN</td>\n",
       "    </tr>\n",
       "  </tbody>\n",
       "</table>\n",
       "</div>"
      ],
      "text/plain": [
       "   overall  verified   reviewTime      reviewerID        asin  \\\n",
       "0        1      True  02 19, 2015  A1V6B6TNIC10QE  0143026860   \n",
       "1        4      True  12 18, 2014  A2F5GHSXFQ0W6J  0143026860   \n",
       "2        4      True  08 10, 2014  A1572GUYS7DGSR  0143026860   \n",
       "3        5      True  03 11, 2013   A1PSGLFK1NSVO  0143026860   \n",
       "4        5      True  12 25, 2011   A6IKXKZMTKGSC  0143026860   \n",
       "\n",
       "        reviewerName                                         reviewText  \\\n",
       "0  theodore j bigham                                              great   \n",
       "1       Mary K. Byke  My  husband wanted to reading about the Negro ...   \n",
       "2            David G  This book was very informative, covering all a...   \n",
       "3               TamB  I am already a baseball fan and knew a bit abo...   \n",
       "4         shoecanary  This was a good story of the Black leagues. I ...   \n",
       "\n",
       "                                             summary  unixReviewTime vote  \\\n",
       "0                                           One Star      1424304000  NaN   \n",
       "1  ... to reading about the Negro Baseball and th...      1418860800  NaN   \n",
       "2                                     Worth the Read      1407628800  NaN   \n",
       "3                                          Good Read      1362960000  NaN   \n",
       "4                More than facts, a good story read!      1324771200    5   \n",
       "\n",
       "  style image  \n",
       "0   NaN   NaN  \n",
       "1   NaN   NaN  \n",
       "2   NaN   NaN  \n",
       "3   NaN   NaN  \n",
       "4   NaN   NaN  "
      ]
     },
     "execution_count": 7,
     "metadata": {},
     "output_type": "execute_result"
    }
   ],
   "source": [
    "## Check Data In Pandas\n",
    "\n",
    "df_review.head()"
   ]
  },
  {
   "cell_type": "code",
   "execution_count": 8,
   "id": "ca36c260",
   "metadata": {},
   "outputs": [],
   "source": [
    "#### Import All Beauty Product Metdata In Pandas\n",
    "\n",
    "df_meta = pd.read_json(open(\"C:/Users/Hp/OneDrive/Desktop/Data Science Project/meta.json\", \"r\", encoding=\"utf8\"),lines=True)"
   ]
  },
  {
   "cell_type": "code",
   "execution_count": 9,
   "id": "f2fc7a7b",
   "metadata": {
    "scrolled": true
   },
   "outputs": [
    {
     "data": {
      "text/html": [
       "<div>\n",
       "<style scoped>\n",
       "    .dataframe tbody tr th:only-of-type {\n",
       "        vertical-align: middle;\n",
       "    }\n",
       "\n",
       "    .dataframe tbody tr th {\n",
       "        vertical-align: top;\n",
       "    }\n",
       "\n",
       "    .dataframe thead th {\n",
       "        text-align: right;\n",
       "    }\n",
       "</style>\n",
       "<table border=\"1\" class=\"dataframe\">\n",
       "  <thead>\n",
       "    <tr style=\"text-align: right;\">\n",
       "      <th></th>\n",
       "      <th>category</th>\n",
       "      <th>tech1</th>\n",
       "      <th>description</th>\n",
       "      <th>fit</th>\n",
       "      <th>title</th>\n",
       "      <th>also_buy</th>\n",
       "      <th>tech2</th>\n",
       "      <th>brand</th>\n",
       "      <th>feature</th>\n",
       "      <th>rank</th>\n",
       "      <th>also_view</th>\n",
       "      <th>details</th>\n",
       "      <th>main_cat</th>\n",
       "      <th>similar_item</th>\n",
       "      <th>date</th>\n",
       "      <th>price</th>\n",
       "      <th>asin</th>\n",
       "      <th>imageURL</th>\n",
       "      <th>imageURLHighRes</th>\n",
       "    </tr>\n",
       "  </thead>\n",
       "  <tbody>\n",
       "    <tr>\n",
       "      <th>0</th>\n",
       "      <td>[]</td>\n",
       "      <td></td>\n",
       "      <td>[Loud 'N Clear Personal Sound Amplifier allows...</td>\n",
       "      <td></td>\n",
       "      <td>Loud 'N Clear&amp;trade; Personal Sound Amplifier</td>\n",
       "      <td>[]</td>\n",
       "      <td></td>\n",
       "      <td>idea village</td>\n",
       "      <td>[]</td>\n",
       "      <td>2,938,573 in Beauty &amp; Personal Care (</td>\n",
       "      <td>[]</td>\n",
       "      <td>{'ASIN: ': '6546546450'}</td>\n",
       "      <td>All Beauty</td>\n",
       "      <td></td>\n",
       "      <td></td>\n",
       "      <td></td>\n",
       "      <td>6546546450</td>\n",
       "      <td>[]</td>\n",
       "      <td>[]</td>\n",
       "    </tr>\n",
       "    <tr>\n",
       "      <th>1</th>\n",
       "      <td>[]</td>\n",
       "      <td></td>\n",
       "      <td>[No7 Lift &amp; Luminate Triple Action Serum 50ml ...</td>\n",
       "      <td></td>\n",
       "      <td>No7 Lift &amp;amp; Luminate Triple Action Serum 50...</td>\n",
       "      <td>[B01E7LCSL6, B008X5RVME]</td>\n",
       "      <td></td>\n",
       "      <td></td>\n",
       "      <td>[]</td>\n",
       "      <td>872,854 in Beauty &amp; Personal Care (</td>\n",
       "      <td>[]</td>\n",
       "      <td>{'Shipping Weight:': '0.3 ounces (', 'ASIN: ':...</td>\n",
       "      <td>All Beauty</td>\n",
       "      <td>class=\"a-bordered a-horizontal-stripes  a-spa...</td>\n",
       "      <td></td>\n",
       "      <td>$44.99</td>\n",
       "      <td>7178680776</td>\n",
       "      <td>[]</td>\n",
       "      <td>[]</td>\n",
       "    </tr>\n",
       "    <tr>\n",
       "      <th>2</th>\n",
       "      <td>[]</td>\n",
       "      <td></td>\n",
       "      <td>[No7 Stay Perfect Foundation now stays perfect...</td>\n",
       "      <td></td>\n",
       "      <td>No7 Stay Perfect Foundation Cool Vanilla by No7</td>\n",
       "      <td>[]</td>\n",
       "      <td></td>\n",
       "      <td>No7</td>\n",
       "      <td>[]</td>\n",
       "      <td>956,696 in Beauty &amp; Personal Care (</td>\n",
       "      <td>[B01B8BR0O8, B01B8BR0NO, B014MHXXM8]</td>\n",
       "      <td>{'Shipping Weight:': '3.5 ounces (', 'ASIN: ':...</td>\n",
       "      <td>All Beauty</td>\n",
       "      <td></td>\n",
       "      <td></td>\n",
       "      <td>$28.76</td>\n",
       "      <td>7250468162</td>\n",
       "      <td>[]</td>\n",
       "      <td>[]</td>\n",
       "    </tr>\n",
       "    <tr>\n",
       "      <th>3</th>\n",
       "      <td>[]</td>\n",
       "      <td></td>\n",
       "      <td>[]</td>\n",
       "      <td></td>\n",
       "      <td>Wella Koleston Perfect Hair Colour 44/44 Mediu...</td>\n",
       "      <td>[B0041PBXX8]</td>\n",
       "      <td></td>\n",
       "      <td></td>\n",
       "      <td>[]</td>\n",
       "      <td>1,870,258 in Beauty &amp; Personal Care (</td>\n",
       "      <td>[]</td>\n",
       "      <td>{'\n",
       "    Item Weight: \n",
       "    ': '1.76 ounces', 'Sh...</td>\n",
       "      <td>All Beauty</td>\n",
       "      <td></td>\n",
       "      <td></td>\n",
       "      <td></td>\n",
       "      <td>7367905066</td>\n",
       "      <td>[https://images-na.ssl-images-amazon.com/image...</td>\n",
       "      <td>[https://images-na.ssl-images-amazon.com/image...</td>\n",
       "    </tr>\n",
       "    <tr>\n",
       "      <th>4</th>\n",
       "      <td>[]</td>\n",
       "      <td></td>\n",
       "      <td>[Lacto Calamine Skin Balance Daily Nourishing ...</td>\n",
       "      <td></td>\n",
       "      <td>Lacto Calamine Skin Balance Oil control 120 ml...</td>\n",
       "      <td>[]</td>\n",
       "      <td></td>\n",
       "      <td>Pirmal Healthcare</td>\n",
       "      <td>[]</td>\n",
       "      <td>67,701 in Beauty &amp; Personal Care (</td>\n",
       "      <td>[3254895630, B007VL1D9S, B00EH9A0RI, B0773MBG4...</td>\n",
       "      <td>{'Shipping Weight:': '12 ounces (', 'ASIN: ': ...</td>\n",
       "      <td>All Beauty</td>\n",
       "      <td></td>\n",
       "      <td></td>\n",
       "      <td>$12.15</td>\n",
       "      <td>7414204790</td>\n",
       "      <td>[https://images-na.ssl-images-amazon.com/image...</td>\n",
       "      <td>[https://images-na.ssl-images-amazon.com/image...</td>\n",
       "    </tr>\n",
       "  </tbody>\n",
       "</table>\n",
       "</div>"
      ],
      "text/plain": [
       "  category tech1                                        description fit  \\\n",
       "0       []        [Loud 'N Clear Personal Sound Amplifier allows...       \n",
       "1       []        [No7 Lift & Luminate Triple Action Serum 50ml ...       \n",
       "2       []        [No7 Stay Perfect Foundation now stays perfect...       \n",
       "3       []                                                       []       \n",
       "4       []        [Lacto Calamine Skin Balance Daily Nourishing ...       \n",
       "\n",
       "                                               title  \\\n",
       "0      Loud 'N Clear&trade; Personal Sound Amplifier   \n",
       "1  No7 Lift &amp; Luminate Triple Action Serum 50...   \n",
       "2    No7 Stay Perfect Foundation Cool Vanilla by No7   \n",
       "3  Wella Koleston Perfect Hair Colour 44/44 Mediu...   \n",
       "4  Lacto Calamine Skin Balance Oil control 120 ml...   \n",
       "\n",
       "                   also_buy tech2              brand feature  \\\n",
       "0                        []             idea village      []   \n",
       "1  [B01E7LCSL6, B008X5RVME]                               []   \n",
       "2                        []                      No7      []   \n",
       "3              [B0041PBXX8]                               []   \n",
       "4                        []        Pirmal Healthcare      []   \n",
       "\n",
       "                                    rank  \\\n",
       "0  2,938,573 in Beauty & Personal Care (   \n",
       "1    872,854 in Beauty & Personal Care (   \n",
       "2    956,696 in Beauty & Personal Care (   \n",
       "3  1,870,258 in Beauty & Personal Care (   \n",
       "4     67,701 in Beauty & Personal Care (   \n",
       "\n",
       "                                           also_view  \\\n",
       "0                                                 []   \n",
       "1                                                 []   \n",
       "2               [B01B8BR0O8, B01B8BR0NO, B014MHXXM8]   \n",
       "3                                                 []   \n",
       "4  [3254895630, B007VL1D9S, B00EH9A0RI, B0773MBG4...   \n",
       "\n",
       "                                             details    main_cat  \\\n",
       "0                           {'ASIN: ': '6546546450'}  All Beauty   \n",
       "1  {'Shipping Weight:': '0.3 ounces (', 'ASIN: ':...  All Beauty   \n",
       "2  {'Shipping Weight:': '3.5 ounces (', 'ASIN: ':...  All Beauty   \n",
       "3  {'\n",
       "    Item Weight: \n",
       "    ': '1.76 ounces', 'Sh...  All Beauty   \n",
       "4  {'Shipping Weight:': '12 ounces (', 'ASIN: ': ...  All Beauty   \n",
       "\n",
       "                                        similar_item date   price        asin  \\\n",
       "0                                                                  6546546450   \n",
       "1   class=\"a-bordered a-horizontal-stripes  a-spa...       $44.99  7178680776   \n",
       "2                                                          $28.76  7250468162   \n",
       "3                                                                  7367905066   \n",
       "4                                                          $12.15  7414204790   \n",
       "\n",
       "                                            imageURL  \\\n",
       "0                                                 []   \n",
       "1                                                 []   \n",
       "2                                                 []   \n",
       "3  [https://images-na.ssl-images-amazon.com/image...   \n",
       "4  [https://images-na.ssl-images-amazon.com/image...   \n",
       "\n",
       "                                     imageURLHighRes  \n",
       "0                                                 []  \n",
       "1                                                 []  \n",
       "2                                                 []  \n",
       "3  [https://images-na.ssl-images-amazon.com/image...  \n",
       "4  [https://images-na.ssl-images-amazon.com/image...  "
      ]
     },
     "execution_count": 9,
     "metadata": {},
     "output_type": "execute_result"
    }
   ],
   "source": [
    "df_meta.head()"
   ]
  },
  {
   "cell_type": "code",
   "execution_count": 10,
   "id": "a424742d",
   "metadata": {},
   "outputs": [],
   "source": [
    "#### Merging Review Data and Metadata"
   ]
  },
  {
   "cell_type": "code",
   "execution_count": 11,
   "id": "22adc308",
   "metadata": {},
   "outputs": [],
   "source": [
    "product_reviews = pd.merge(df_review,df_meta,on='asin',how='left')"
   ]
  },
  {
   "cell_type": "code",
   "execution_count": 12,
   "id": "76d3f4d0",
   "metadata": {
    "scrolled": false
   },
   "outputs": [
    {
     "data": {
      "text/html": [
       "<div>\n",
       "<style scoped>\n",
       "    .dataframe tbody tr th:only-of-type {\n",
       "        vertical-align: middle;\n",
       "    }\n",
       "\n",
       "    .dataframe tbody tr th {\n",
       "        vertical-align: top;\n",
       "    }\n",
       "\n",
       "    .dataframe thead th {\n",
       "        text-align: right;\n",
       "    }\n",
       "</style>\n",
       "<table border=\"1\" class=\"dataframe\">\n",
       "  <thead>\n",
       "    <tr style=\"text-align: right;\">\n",
       "      <th></th>\n",
       "      <th>overall</th>\n",
       "      <th>verified</th>\n",
       "      <th>reviewTime</th>\n",
       "      <th>reviewerID</th>\n",
       "      <th>asin</th>\n",
       "      <th>reviewerName</th>\n",
       "      <th>reviewText</th>\n",
       "      <th>summary</th>\n",
       "      <th>unixReviewTime</th>\n",
       "      <th>vote</th>\n",
       "      <th>...</th>\n",
       "      <th>feature</th>\n",
       "      <th>rank</th>\n",
       "      <th>also_view</th>\n",
       "      <th>details</th>\n",
       "      <th>main_cat</th>\n",
       "      <th>similar_item</th>\n",
       "      <th>date</th>\n",
       "      <th>price</th>\n",
       "      <th>imageURL</th>\n",
       "      <th>imageURLHighRes</th>\n",
       "    </tr>\n",
       "  </thead>\n",
       "  <tbody>\n",
       "    <tr>\n",
       "      <th>0</th>\n",
       "      <td>1</td>\n",
       "      <td>True</td>\n",
       "      <td>02 19, 2015</td>\n",
       "      <td>A1V6B6TNIC10QE</td>\n",
       "      <td>0143026860</td>\n",
       "      <td>theodore j bigham</td>\n",
       "      <td>great</td>\n",
       "      <td>One Star</td>\n",
       "      <td>1424304000</td>\n",
       "      <td>NaN</td>\n",
       "      <td>...</td>\n",
       "      <td>NaN</td>\n",
       "      <td>NaN</td>\n",
       "      <td>NaN</td>\n",
       "      <td>NaN</td>\n",
       "      <td>NaN</td>\n",
       "      <td>NaN</td>\n",
       "      <td>NaN</td>\n",
       "      <td>NaN</td>\n",
       "      <td>NaN</td>\n",
       "      <td>NaN</td>\n",
       "    </tr>\n",
       "    <tr>\n",
       "      <th>1</th>\n",
       "      <td>4</td>\n",
       "      <td>True</td>\n",
       "      <td>12 18, 2014</td>\n",
       "      <td>A2F5GHSXFQ0W6J</td>\n",
       "      <td>0143026860</td>\n",
       "      <td>Mary K. Byke</td>\n",
       "      <td>My  husband wanted to reading about the Negro ...</td>\n",
       "      <td>... to reading about the Negro Baseball and th...</td>\n",
       "      <td>1418860800</td>\n",
       "      <td>NaN</td>\n",
       "      <td>...</td>\n",
       "      <td>NaN</td>\n",
       "      <td>NaN</td>\n",
       "      <td>NaN</td>\n",
       "      <td>NaN</td>\n",
       "      <td>NaN</td>\n",
       "      <td>NaN</td>\n",
       "      <td>NaN</td>\n",
       "      <td>NaN</td>\n",
       "      <td>NaN</td>\n",
       "      <td>NaN</td>\n",
       "    </tr>\n",
       "    <tr>\n",
       "      <th>2</th>\n",
       "      <td>4</td>\n",
       "      <td>True</td>\n",
       "      <td>08 10, 2014</td>\n",
       "      <td>A1572GUYS7DGSR</td>\n",
       "      <td>0143026860</td>\n",
       "      <td>David G</td>\n",
       "      <td>This book was very informative, covering all a...</td>\n",
       "      <td>Worth the Read</td>\n",
       "      <td>1407628800</td>\n",
       "      <td>NaN</td>\n",
       "      <td>...</td>\n",
       "      <td>NaN</td>\n",
       "      <td>NaN</td>\n",
       "      <td>NaN</td>\n",
       "      <td>NaN</td>\n",
       "      <td>NaN</td>\n",
       "      <td>NaN</td>\n",
       "      <td>NaN</td>\n",
       "      <td>NaN</td>\n",
       "      <td>NaN</td>\n",
       "      <td>NaN</td>\n",
       "    </tr>\n",
       "    <tr>\n",
       "      <th>3</th>\n",
       "      <td>5</td>\n",
       "      <td>True</td>\n",
       "      <td>03 11, 2013</td>\n",
       "      <td>A1PSGLFK1NSVO</td>\n",
       "      <td>0143026860</td>\n",
       "      <td>TamB</td>\n",
       "      <td>I am already a baseball fan and knew a bit abo...</td>\n",
       "      <td>Good Read</td>\n",
       "      <td>1362960000</td>\n",
       "      <td>NaN</td>\n",
       "      <td>...</td>\n",
       "      <td>NaN</td>\n",
       "      <td>NaN</td>\n",
       "      <td>NaN</td>\n",
       "      <td>NaN</td>\n",
       "      <td>NaN</td>\n",
       "      <td>NaN</td>\n",
       "      <td>NaN</td>\n",
       "      <td>NaN</td>\n",
       "      <td>NaN</td>\n",
       "      <td>NaN</td>\n",
       "    </tr>\n",
       "    <tr>\n",
       "      <th>4</th>\n",
       "      <td>5</td>\n",
       "      <td>True</td>\n",
       "      <td>12 25, 2011</td>\n",
       "      <td>A6IKXKZMTKGSC</td>\n",
       "      <td>0143026860</td>\n",
       "      <td>shoecanary</td>\n",
       "      <td>This was a good story of the Black leagues. I ...</td>\n",
       "      <td>More than facts, a good story read!</td>\n",
       "      <td>1324771200</td>\n",
       "      <td>5</td>\n",
       "      <td>...</td>\n",
       "      <td>NaN</td>\n",
       "      <td>NaN</td>\n",
       "      <td>NaN</td>\n",
       "      <td>NaN</td>\n",
       "      <td>NaN</td>\n",
       "      <td>NaN</td>\n",
       "      <td>NaN</td>\n",
       "      <td>NaN</td>\n",
       "      <td>NaN</td>\n",
       "      <td>NaN</td>\n",
       "    </tr>\n",
       "  </tbody>\n",
       "</table>\n",
       "<p>5 rows × 30 columns</p>\n",
       "</div>"
      ],
      "text/plain": [
       "   overall  verified   reviewTime      reviewerID        asin  \\\n",
       "0        1      True  02 19, 2015  A1V6B6TNIC10QE  0143026860   \n",
       "1        4      True  12 18, 2014  A2F5GHSXFQ0W6J  0143026860   \n",
       "2        4      True  08 10, 2014  A1572GUYS7DGSR  0143026860   \n",
       "3        5      True  03 11, 2013   A1PSGLFK1NSVO  0143026860   \n",
       "4        5      True  12 25, 2011   A6IKXKZMTKGSC  0143026860   \n",
       "\n",
       "        reviewerName                                         reviewText  \\\n",
       "0  theodore j bigham                                              great   \n",
       "1       Mary K. Byke  My  husband wanted to reading about the Negro ...   \n",
       "2            David G  This book was very informative, covering all a...   \n",
       "3               TamB  I am already a baseball fan and knew a bit abo...   \n",
       "4         shoecanary  This was a good story of the Black leagues. I ...   \n",
       "\n",
       "                                             summary  unixReviewTime vote  \\\n",
       "0                                           One Star      1424304000  NaN   \n",
       "1  ... to reading about the Negro Baseball and th...      1418860800  NaN   \n",
       "2                                     Worth the Read      1407628800  NaN   \n",
       "3                                          Good Read      1362960000  NaN   \n",
       "4                More than facts, a good story read!      1324771200    5   \n",
       "\n",
       "   ... feature rank also_view details main_cat similar_item date price  \\\n",
       "0  ...     NaN  NaN       NaN     NaN      NaN          NaN  NaN   NaN   \n",
       "1  ...     NaN  NaN       NaN     NaN      NaN          NaN  NaN   NaN   \n",
       "2  ...     NaN  NaN       NaN     NaN      NaN          NaN  NaN   NaN   \n",
       "3  ...     NaN  NaN       NaN     NaN      NaN          NaN  NaN   NaN   \n",
       "4  ...     NaN  NaN       NaN     NaN      NaN          NaN  NaN   NaN   \n",
       "\n",
       "  imageURL imageURLHighRes  \n",
       "0      NaN             NaN  \n",
       "1      NaN             NaN  \n",
       "2      NaN             NaN  \n",
       "3      NaN             NaN  \n",
       "4      NaN             NaN  \n",
       "\n",
       "[5 rows x 30 columns]"
      ]
     },
     "execution_count": 12,
     "metadata": {},
     "output_type": "execute_result"
    }
   ],
   "source": [
    "product_reviews.head()"
   ]
  },
  {
   "cell_type": "code",
   "execution_count": 13,
   "id": "bb4aca23",
   "metadata": {},
   "outputs": [
    {
     "data": {
      "text/plain": [
       "(387654, 30)"
      ]
     },
     "execution_count": 13,
     "metadata": {},
     "output_type": "execute_result"
    }
   ],
   "source": [
    "product_reviews.shape"
   ]
  },
  {
   "cell_type": "code",
   "execution_count": 14,
   "id": "89dbd562",
   "metadata": {},
   "outputs": [],
   "source": [
    "#### Renaming 'overall' Column As 'rating'\n",
    "product_reviews = product_reviews.rename(columns={'overall': 'rating'})"
   ]
  },
  {
   "cell_type": "code",
   "execution_count": 15,
   "id": "704b8c62",
   "metadata": {
    "scrolled": true
   },
   "outputs": [
    {
     "name": "stdout",
     "output_type": "stream",
     "text": [
      "<class 'pandas.core.frame.DataFrame'>\n",
      "Int64Index: 387654 entries, 0 to 387653\n",
      "Data columns (total 30 columns):\n",
      " #   Column           Non-Null Count   Dtype \n",
      "---  ------           --------------   ----- \n",
      " 0   rating           387654 non-null  int64 \n",
      " 1   verified         387654 non-null  bool  \n",
      " 2   reviewTime       387654 non-null  object\n",
      " 3   reviewerID       387654 non-null  object\n",
      " 4   asin             387654 non-null  object\n",
      " 5   reviewerName     387615 non-null  object\n",
      " 6   reviewText       387250 non-null  object\n",
      " 7   summary          387442 non-null  object\n",
      " 8   unixReviewTime   387654 non-null  int64 \n",
      " 9   vote             54919 non-null   object\n",
      " 10  style            132942 non-null  object\n",
      " 11  image            8507 non-null    object\n",
      " 12  category         382532 non-null  object\n",
      " 13  tech1            382532 non-null  object\n",
      " 14  description      382532 non-null  object\n",
      " 15  fit              382532 non-null  object\n",
      " 16  title            382532 non-null  object\n",
      " 17  also_buy         382532 non-null  object\n",
      " 18  tech2            382532 non-null  object\n",
      " 19  brand            382532 non-null  object\n",
      " 20  feature          382532 non-null  object\n",
      " 21  rank             382532 non-null  object\n",
      " 22  also_view        382532 non-null  object\n",
      " 23  details          382532 non-null  object\n",
      " 24  main_cat         382532 non-null  object\n",
      " 25  similar_item     382532 non-null  object\n",
      " 26  date             382532 non-null  object\n",
      " 27  price            382532 non-null  object\n",
      " 28  imageURL         382532 non-null  object\n",
      " 29  imageURLHighRes  382532 non-null  object\n",
      "dtypes: bool(1), int64(2), object(27)\n",
      "memory usage: 89.1+ MB\n"
     ]
    }
   ],
   "source": [
    "product_reviews.info()"
   ]
  },
  {
   "cell_type": "code",
   "execution_count": 16,
   "id": "f996cfb9",
   "metadata": {},
   "outputs": [],
   "source": [
    "#### Checking For Missing Values"
   ]
  },
  {
   "cell_type": "code",
   "execution_count": 17,
   "id": "8da33b2a",
   "metadata": {
    "scrolled": true
   },
   "outputs": [
    {
     "data": {
      "text/plain": [
       "rating                  0\n",
       "verified                0\n",
       "reviewTime              0\n",
       "reviewerID              0\n",
       "asin                    0\n",
       "reviewerName           39\n",
       "reviewText            404\n",
       "summary               212\n",
       "unixReviewTime          0\n",
       "vote               332735\n",
       "style              254712\n",
       "image              379147\n",
       "category             5122\n",
       "tech1                5122\n",
       "description          5122\n",
       "fit                  5122\n",
       "title                5122\n",
       "also_buy             5122\n",
       "tech2                5122\n",
       "brand                5122\n",
       "feature              5122\n",
       "rank                 5122\n",
       "also_view            5122\n",
       "details              5122\n",
       "main_cat             5122\n",
       "similar_item         5122\n",
       "date                 5122\n",
       "price                5122\n",
       "imageURL             5122\n",
       "imageURLHighRes      5122\n",
       "dtype: int64"
      ]
     },
     "execution_count": 17,
     "metadata": {},
     "output_type": "execute_result"
    }
   ],
   "source": [
    "product_reviews.isnull().sum()"
   ]
  },
  {
   "cell_type": "code",
   "execution_count": 18,
   "id": "59a36ac4",
   "metadata": {},
   "outputs": [],
   "source": [
    "#### Dropping Null Values In Our Data"
   ]
  },
  {
   "cell_type": "code",
   "execution_count": 19,
   "id": "f8d8fc7c",
   "metadata": {},
   "outputs": [],
   "source": [
    "product_reviews = product_reviews.dropna(subset=['title'])"
   ]
  },
  {
   "cell_type": "code",
   "execution_count": 20,
   "id": "b67db2dd",
   "metadata": {},
   "outputs": [],
   "source": [
    "product_reviews = product_reviews.dropna(subset=['brand'])"
   ]
  },
  {
   "cell_type": "code",
   "execution_count": 21,
   "id": "2fe0bd0e",
   "metadata": {},
   "outputs": [],
   "source": [
    "product_reviews = product_reviews.dropna(subset=['reviewText'])"
   ]
  },
  {
   "cell_type": "code",
   "execution_count": 22,
   "id": "f9dcdbda",
   "metadata": {},
   "outputs": [],
   "source": [
    "product_reviews = product_reviews.dropna(subset=['summary'])"
   ]
  },
  {
   "cell_type": "code",
   "execution_count": 23,
   "id": "c4412eba",
   "metadata": {},
   "outputs": [
    {
     "data": {
      "text/plain": [
       "(381936, 30)"
      ]
     },
     "execution_count": 23,
     "metadata": {},
     "output_type": "execute_result"
    }
   ],
   "source": [
    "product_reviews.shape"
   ]
  },
  {
   "cell_type": "code",
   "execution_count": 24,
   "id": "12c7ce6c",
   "metadata": {
    "scrolled": true
   },
   "outputs": [
    {
     "data": {
      "text/plain": [
       "array(['Lacto Calamine Skin Balance Oil control 120 ml. (Pack of 2)',\n",
       "       'Mary Kay Satin Hands Hand Cream Travel MINI Size Set of 6',\n",
       "       'Jenna Jameson Heartbreaker Perfume for women 3.4 oz Eau De Parfum Spray',\n",
       "       ...,\n",
       "       '(Buy 3 Get 1 Free) Salon Perfect Eye Makeup Corrector Sticks Oil Free, Fragrance Free 100% Cotton Swabs Contains 50 Pre-Moistened Swabs Made in U.S.A',\n",
       "       'NOW D-Mannose 500 mg - 120 Veg Capsules (Pack of 3)',\n",
       "       '12 White Feather Shuttlecocks Birdies Badminton Training Match'],\n",
       "      dtype=object)"
      ]
     },
     "execution_count": 24,
     "metadata": {},
     "output_type": "execute_result"
    }
   ],
   "source": [
    "product_reviews.title.unique()"
   ]
  },
  {
   "cell_type": "code",
   "execution_count": null,
   "id": "6ed7d8fe",
   "metadata": {},
   "outputs": [],
   "source": []
  },
  {
   "cell_type": "code",
   "execution_count": 25,
   "id": "c3e32903",
   "metadata": {},
   "outputs": [],
   "source": [
    "product_reviews = product_reviews.dropna(subset=['reviewerName','description','price'])"
   ]
  },
  {
   "cell_type": "code",
   "execution_count": 26,
   "id": "024a282b",
   "metadata": {},
   "outputs": [
    {
     "data": {
      "text/plain": [
       "(381897, 30)"
      ]
     },
     "execution_count": 26,
     "metadata": {},
     "output_type": "execute_result"
    }
   ],
   "source": [
    "product_reviews.shape"
   ]
  },
  {
   "cell_type": "code",
   "execution_count": 27,
   "id": "1b86724d",
   "metadata": {
    "scrolled": true
   },
   "outputs": [
    {
     "name": "stdout",
     "output_type": "stream",
     "text": [
      "<class 'pandas.core.frame.DataFrame'>\n",
      "Int64Index: 381897 entries, 4833 to 387653\n",
      "Data columns (total 30 columns):\n",
      " #   Column           Non-Null Count   Dtype \n",
      "---  ------           --------------   ----- \n",
      " 0   rating           381897 non-null  int64 \n",
      " 1   verified         381897 non-null  bool  \n",
      " 2   reviewTime       381897 non-null  object\n",
      " 3   reviewerID       381897 non-null  object\n",
      " 4   asin             381897 non-null  object\n",
      " 5   reviewerName     381897 non-null  object\n",
      " 6   reviewText       381897 non-null  object\n",
      " 7   summary          381897 non-null  object\n",
      " 8   unixReviewTime   381897 non-null  int64 \n",
      " 9   vote             54659 non-null   object\n",
      " 10  style            127918 non-null  object\n",
      " 11  image            8262 non-null    object\n",
      " 12  category         381897 non-null  object\n",
      " 13  tech1            381897 non-null  object\n",
      " 14  description      381897 non-null  object\n",
      " 15  fit              381897 non-null  object\n",
      " 16  title            381897 non-null  object\n",
      " 17  also_buy         381897 non-null  object\n",
      " 18  tech2            381897 non-null  object\n",
      " 19  brand            381897 non-null  object\n",
      " 20  feature          381897 non-null  object\n",
      " 21  rank             381897 non-null  object\n",
      " 22  also_view        381897 non-null  object\n",
      " 23  details          381897 non-null  object\n",
      " 24  main_cat         381897 non-null  object\n",
      " 25  similar_item     381897 non-null  object\n",
      " 26  date             381897 non-null  object\n",
      " 27  price            381897 non-null  object\n",
      " 28  imageURL         381897 non-null  object\n",
      " 29  imageURLHighRes  381897 non-null  object\n",
      "dtypes: bool(1), int64(2), object(27)\n",
      "memory usage: 87.8+ MB\n"
     ]
    }
   ],
   "source": [
    "product_reviews.info()"
   ]
  },
  {
   "cell_type": "code",
   "execution_count": 28,
   "id": "156f54a2",
   "metadata": {},
   "outputs": [],
   "source": [
    "#### Dropping columns not relevant to our problem statement"
   ]
  },
  {
   "cell_type": "code",
   "execution_count": 29,
   "id": "60ad704d",
   "metadata": {
    "scrolled": true
   },
   "outputs": [],
   "source": [
    "product_reviews = product_reviews.drop(['imageURL', 'imageURLHighRes', 'details', 'tech2', 'tech1', 'description', 'image', 'vote', 'style', 'similar_item', 'fit'], axis = 1)"
   ]
  },
  {
   "cell_type": "code",
   "execution_count": 30,
   "id": "8d127481",
   "metadata": {},
   "outputs": [
    {
     "data": {
      "text/plain": [
       "(381897, 19)"
      ]
     },
     "execution_count": 30,
     "metadata": {},
     "output_type": "execute_result"
    }
   ],
   "source": [
    "product_reviews.shape"
   ]
  },
  {
   "cell_type": "code",
   "execution_count": 31,
   "id": "a6b9c4af",
   "metadata": {},
   "outputs": [],
   "source": [
    "#### Converting JSON to CSV"
   ]
  },
  {
   "cell_type": "code",
   "execution_count": 32,
   "id": "004ab075",
   "metadata": {},
   "outputs": [],
   "source": [
    "product_reviews.to_csv('C:/Users/Hp/OneDrive/Desktop/Data Science Project/product_reviews.csv', sep=',', encoding='utf-8', index = False)"
   ]
  },
  {
   "cell_type": "code",
   "execution_count": 33,
   "id": "68813b76",
   "metadata": {},
   "outputs": [],
   "source": [
    "#### Loading the CSV file"
   ]
  },
  {
   "cell_type": "code",
   "execution_count": 34,
   "id": "5802bc4d",
   "metadata": {},
   "outputs": [],
   "source": [
    "product_reviews_2 = pd.read_csv('C:/Users/Hp/OneDrive/Desktop/Data Science Project/product_reviews.csv' , low_memory=False)"
   ]
  },
  {
   "cell_type": "code",
   "execution_count": 35,
   "id": "e99ec60a",
   "metadata": {},
   "outputs": [],
   "source": [
    "#### Concatenating \"reviewText\" and \"summary\" as \"review_txt\""
   ]
  },
  {
   "cell_type": "code",
   "execution_count": 36,
   "id": "2d169f8d",
   "metadata": {},
   "outputs": [],
   "source": [
    "product_reviews_2['review_txt'] = product_reviews_2[['summary', 'reviewText']].apply(lambda x: \" \".join(str(y) for y in x if str(y) != 'nan'), axis = 1)"
   ]
  },
  {
   "cell_type": "code",
   "execution_count": 37,
   "id": "4fa46c8f",
   "metadata": {},
   "outputs": [
    {
     "data": {
      "text/plain": [
       "'Five Stars Fits my stand perfectly.  Cleans razor well.'"
      ]
     },
     "execution_count": 37,
     "metadata": {},
     "output_type": "execute_result"
    }
   ],
   "source": [
    "product_reviews_2['review_txt'][1235]"
   ]
  },
  {
   "cell_type": "code",
   "execution_count": 38,
   "id": "9bb1a60b",
   "metadata": {},
   "outputs": [],
   "source": [
    "#### Dropping columns \"reviewText\" and \"summary\""
   ]
  },
  {
   "cell_type": "code",
   "execution_count": 39,
   "id": "792c142e",
   "metadata": {},
   "outputs": [],
   "source": [
    "product_reviews_2 = product_reviews_2.drop(['reviewText', 'summary'], axis = 1)"
   ]
  },
  {
   "cell_type": "code",
   "execution_count": 40,
   "id": "7f77fb14",
   "metadata": {},
   "outputs": [
    {
     "data": {
      "text/plain": [
       "(381897, 18)"
      ]
     },
     "execution_count": 40,
     "metadata": {},
     "output_type": "execute_result"
    }
   ],
   "source": [
    "product_reviews_2.shape"
   ]
  },
  {
   "cell_type": "code",
   "execution_count": 41,
   "id": "ccbcb4f5",
   "metadata": {
    "scrolled": true
   },
   "outputs": [
    {
     "data": {
      "text/html": [
       "<div>\n",
       "<style scoped>\n",
       "    .dataframe tbody tr th:only-of-type {\n",
       "        vertical-align: middle;\n",
       "    }\n",
       "\n",
       "    .dataframe tbody tr th {\n",
       "        vertical-align: top;\n",
       "    }\n",
       "\n",
       "    .dataframe thead th {\n",
       "        text-align: right;\n",
       "    }\n",
       "</style>\n",
       "<table border=\"1\" class=\"dataframe\">\n",
       "  <thead>\n",
       "    <tr style=\"text-align: right;\">\n",
       "      <th></th>\n",
       "      <th>rating</th>\n",
       "      <th>verified</th>\n",
       "      <th>reviewTime</th>\n",
       "      <th>reviewerID</th>\n",
       "      <th>asin</th>\n",
       "      <th>reviewerName</th>\n",
       "      <th>unixReviewTime</th>\n",
       "      <th>category</th>\n",
       "      <th>title</th>\n",
       "      <th>also_buy</th>\n",
       "      <th>brand</th>\n",
       "      <th>feature</th>\n",
       "      <th>rank</th>\n",
       "      <th>also_view</th>\n",
       "      <th>main_cat</th>\n",
       "      <th>date</th>\n",
       "      <th>price</th>\n",
       "      <th>review_txt</th>\n",
       "    </tr>\n",
       "  </thead>\n",
       "  <tbody>\n",
       "    <tr>\n",
       "      <th>0</th>\n",
       "      <td>5</td>\n",
       "      <td>True</td>\n",
       "      <td>03 10, 2016</td>\n",
       "      <td>A5TA1NJOC0PJ5</td>\n",
       "      <td>7414204790</td>\n",
       "      <td>Amazon Customer</td>\n",
       "      <td>1457568000</td>\n",
       "      <td>[]</td>\n",
       "      <td>Lacto Calamine Skin Balance Oil control 120 ml...</td>\n",
       "      <td>[]</td>\n",
       "      <td>Pirmal Healthcare</td>\n",
       "      <td>[]</td>\n",
       "      <td>67,701 in Beauty &amp; Personal Care (</td>\n",
       "      <td>['3254895630', 'B007VL1D9S', 'B00EH9A0RI', 'B0...</td>\n",
       "      <td>All Beauty</td>\n",
       "      <td>NaN</td>\n",
       "      <td>$12.15</td>\n",
       "      <td>Five Stars Excellent very good</td>\n",
       "    </tr>\n",
       "    <tr>\n",
       "      <th>1</th>\n",
       "      <td>5</td>\n",
       "      <td>True</td>\n",
       "      <td>09 1, 2015</td>\n",
       "      <td>A1TJICB7VLGQKL</td>\n",
       "      <td>7414204790</td>\n",
       "      <td>LH</td>\n",
       "      <td>1441065600</td>\n",
       "      <td>[]</td>\n",
       "      <td>Lacto Calamine Skin Balance Oil control 120 ml...</td>\n",
       "      <td>[]</td>\n",
       "      <td>Pirmal Healthcare</td>\n",
       "      <td>[]</td>\n",
       "      <td>67,701 in Beauty &amp; Personal Care (</td>\n",
       "      <td>['3254895630', 'B007VL1D9S', 'B00EH9A0RI', 'B0...</td>\n",
       "      <td>All Beauty</td>\n",
       "      <td>NaN</td>\n",
       "      <td>$12.15</td>\n",
       "      <td>Five Stars Great product</td>\n",
       "    </tr>\n",
       "    <tr>\n",
       "      <th>2</th>\n",
       "      <td>5</td>\n",
       "      <td>True</td>\n",
       "      <td>10 3, 2014</td>\n",
       "      <td>A80M2286B7STE</td>\n",
       "      <td>7414204790</td>\n",
       "      <td>dolly</td>\n",
       "      <td>1412294400</td>\n",
       "      <td>[]</td>\n",
       "      <td>Lacto Calamine Skin Balance Oil control 120 ml...</td>\n",
       "      <td>[]</td>\n",
       "      <td>Pirmal Healthcare</td>\n",
       "      <td>[]</td>\n",
       "      <td>67,701 in Beauty &amp; Personal Care (</td>\n",
       "      <td>['3254895630', 'B007VL1D9S', 'B00EH9A0RI', 'B0...</td>\n",
       "      <td>All Beauty</td>\n",
       "      <td>NaN</td>\n",
       "      <td>$12.15</td>\n",
       "      <td>Five Stars Magical</td>\n",
       "    </tr>\n",
       "    <tr>\n",
       "      <th>3</th>\n",
       "      <td>5</td>\n",
       "      <td>True</td>\n",
       "      <td>08 7, 2014</td>\n",
       "      <td>A2TM2MAA8IT34U</td>\n",
       "      <td>7414204790</td>\n",
       "      <td>Jack Warn</td>\n",
       "      <td>1407369600</td>\n",
       "      <td>[]</td>\n",
       "      <td>Lacto Calamine Skin Balance Oil control 120 ml...</td>\n",
       "      <td>[]</td>\n",
       "      <td>Pirmal Healthcare</td>\n",
       "      <td>[]</td>\n",
       "      <td>67,701 in Beauty &amp; Personal Care (</td>\n",
       "      <td>['3254895630', 'B007VL1D9S', 'B00EH9A0RI', 'B0...</td>\n",
       "      <td>All Beauty</td>\n",
       "      <td>NaN</td>\n",
       "      <td>$12.15</td>\n",
       "      <td>Five Stars Excellent!!!</td>\n",
       "    </tr>\n",
       "    <tr>\n",
       "      <th>4</th>\n",
       "      <td>4</td>\n",
       "      <td>True</td>\n",
       "      <td>06 14, 2014</td>\n",
       "      <td>AQGWT465GTEJG</td>\n",
       "      <td>7414204790</td>\n",
       "      <td>Chitralekha Tulal</td>\n",
       "      <td>1402704000</td>\n",
       "      <td>[]</td>\n",
       "      <td>Lacto Calamine Skin Balance Oil control 120 ml...</td>\n",
       "      <td>[]</td>\n",
       "      <td>Pirmal Healthcare</td>\n",
       "      <td>[]</td>\n",
       "      <td>67,701 in Beauty &amp; Personal Care (</td>\n",
       "      <td>['3254895630', 'B007VL1D9S', 'B00EH9A0RI', 'B0...</td>\n",
       "      <td>All Beauty</td>\n",
       "      <td>NaN</td>\n",
       "      <td>$12.15</td>\n",
       "      <td>Very pricey I do like the product a lot...I ha...</td>\n",
       "    </tr>\n",
       "  </tbody>\n",
       "</table>\n",
       "</div>"
      ],
      "text/plain": [
       "   rating  verified   reviewTime      reviewerID        asin  \\\n",
       "0       5      True  03 10, 2016   A5TA1NJOC0PJ5  7414204790   \n",
       "1       5      True   09 1, 2015  A1TJICB7VLGQKL  7414204790   \n",
       "2       5      True   10 3, 2014   A80M2286B7STE  7414204790   \n",
       "3       5      True   08 7, 2014  A2TM2MAA8IT34U  7414204790   \n",
       "4       4      True  06 14, 2014   AQGWT465GTEJG  7414204790   \n",
       "\n",
       "        reviewerName  unixReviewTime category  \\\n",
       "0    Amazon Customer      1457568000       []   \n",
       "1                 LH      1441065600       []   \n",
       "2              dolly      1412294400       []   \n",
       "3          Jack Warn      1407369600       []   \n",
       "4  Chitralekha Tulal      1402704000       []   \n",
       "\n",
       "                                               title also_buy  \\\n",
       "0  Lacto Calamine Skin Balance Oil control 120 ml...       []   \n",
       "1  Lacto Calamine Skin Balance Oil control 120 ml...       []   \n",
       "2  Lacto Calamine Skin Balance Oil control 120 ml...       []   \n",
       "3  Lacto Calamine Skin Balance Oil control 120 ml...       []   \n",
       "4  Lacto Calamine Skin Balance Oil control 120 ml...       []   \n",
       "\n",
       "               brand feature                                rank  \\\n",
       "0  Pirmal Healthcare      []  67,701 in Beauty & Personal Care (   \n",
       "1  Pirmal Healthcare      []  67,701 in Beauty & Personal Care (   \n",
       "2  Pirmal Healthcare      []  67,701 in Beauty & Personal Care (   \n",
       "3  Pirmal Healthcare      []  67,701 in Beauty & Personal Care (   \n",
       "4  Pirmal Healthcare      []  67,701 in Beauty & Personal Care (   \n",
       "\n",
       "                                           also_view    main_cat date   price  \\\n",
       "0  ['3254895630', 'B007VL1D9S', 'B00EH9A0RI', 'B0...  All Beauty  NaN  $12.15   \n",
       "1  ['3254895630', 'B007VL1D9S', 'B00EH9A0RI', 'B0...  All Beauty  NaN  $12.15   \n",
       "2  ['3254895630', 'B007VL1D9S', 'B00EH9A0RI', 'B0...  All Beauty  NaN  $12.15   \n",
       "3  ['3254895630', 'B007VL1D9S', 'B00EH9A0RI', 'B0...  All Beauty  NaN  $12.15   \n",
       "4  ['3254895630', 'B007VL1D9S', 'B00EH9A0RI', 'B0...  All Beauty  NaN  $12.15   \n",
       "\n",
       "                                          review_txt  \n",
       "0                     Five Stars Excellent very good  \n",
       "1                           Five Stars Great product  \n",
       "2                                 Five Stars Magical  \n",
       "3                            Five Stars Excellent!!!  \n",
       "4  Very pricey I do like the product a lot...I ha...  "
      ]
     },
     "execution_count": 41,
     "metadata": {},
     "output_type": "execute_result"
    }
   ],
   "source": [
    "product_reviews_2.head()"
   ]
  },
  {
   "cell_type": "code",
   "execution_count": 42,
   "id": "72749ecd",
   "metadata": {
    "scrolled": false
   },
   "outputs": [
    {
     "name": "stdout",
     "output_type": "stream",
     "text": [
      "<class 'pandas.core.frame.DataFrame'>\n",
      "RangeIndex: 381897 entries, 0 to 381896\n",
      "Data columns (total 18 columns):\n",
      " #   Column          Non-Null Count   Dtype \n",
      "---  ------          --------------   ----- \n",
      " 0   rating          381897 non-null  int64 \n",
      " 1   verified        381897 non-null  bool  \n",
      " 2   reviewTime      381897 non-null  object\n",
      " 3   reviewerID      381897 non-null  object\n",
      " 4   asin            381897 non-null  object\n",
      " 5   reviewerName    381884 non-null  object\n",
      " 6   unixReviewTime  381897 non-null  int64 \n",
      " 7   category        381897 non-null  object\n",
      " 8   title           381881 non-null  object\n",
      " 9   also_buy        381897 non-null  object\n",
      " 10  brand           294557 non-null  object\n",
      " 11  feature         381897 non-null  object\n",
      " 12  rank            381897 non-null  object\n",
      " 13  also_view       381897 non-null  object\n",
      " 14  main_cat        381897 non-null  object\n",
      " 15  date            335 non-null     object\n",
      " 16  price           198800 non-null  object\n",
      " 17  review_txt      381897 non-null  object\n",
      "dtypes: bool(1), int64(2), object(15)\n",
      "memory usage: 49.9+ MB\n"
     ]
    }
   ],
   "source": [
    "product_reviews_2.info()"
   ]
  },
  {
   "cell_type": "code",
   "execution_count": 43,
   "id": "7c230e47",
   "metadata": {
    "scrolled": true
   },
   "outputs": [
    {
     "name": "stdout",
     "output_type": "stream",
     "text": [
      "Good ratings : 320419 reviews for All Beauty products\n",
      "Bad ratings : 61478 reviews for All Beauty products\n"
     ]
    }
   ],
   "source": [
    "#### Classifying Rating Into Good Or Bad\n",
    "good_rate = len(product_reviews_2[product_reviews_2['rating'] >= 3])\n",
    "bad_rate = len(product_reviews_2[product_reviews_2['rating'] < 3])\n",
    "\n",
    "print ('Good ratings : {} reviews for All Beauty products'.format(good_rate))\n",
    "print ('Bad ratings : {} reviews for All Beauty products'.format(bad_rate))"
   ]
  },
  {
   "cell_type": "code",
   "execution_count": 44,
   "id": "18a4ca2d",
   "metadata": {},
   "outputs": [],
   "source": [
    "#### Apply the new classification to the ratings column\n",
    "product_reviews_2['rating_class'] = product_reviews_2['rating'].apply(lambda x: 'bad' if x < 3 else'good')"
   ]
  },
  {
   "cell_type": "code",
   "execution_count": 45,
   "id": "63cf016a",
   "metadata": {
    "scrolled": false
   },
   "outputs": [
    {
     "name": "stdout",
     "output_type": "stream",
     "text": [
      "================================================\n",
      "\n",
      "Number of reviews:  381897\n",
      "\n",
      "Number of unique reviewers:  318788\n",
      "Proportion of unique reviewers:  0.835\n",
      "\n",
      "Number of unique products:  32465\n",
      "Proportion of unique products:  0.085\n",
      "\n",
      "Average rating score:  4.109\n",
      "\n",
      "================================================\n"
     ]
    }
   ],
   "source": [
    "#### Descriptive Statistics\n",
    "\n",
    "print (\"================================================\")\n",
    "print ()\n",
    "\n",
    "#### Total Reviews\n",
    "total = len(product_reviews_2)\n",
    "print (\"Number of reviews: \",total)\n",
    "print ()\n",
    "\n",
    "#### How Many Unique Reviewers?\n",
    "print (\"Number of unique reviewers: \",len(product_reviews_2.reviewerID.unique()))\n",
    "reviewer_prop = float(len(product_reviews_2.reviewerID.unique())/total)\n",
    "print (\"Proportion of unique reviewers: \",round(reviewer_prop,3))\n",
    "print ()\n",
    "\n",
    "#### How Many Unique Products?\n",
    "print (\"Number of unique products: \", len(product_reviews_2.asin.unique()))\n",
    "product_prop = float(len(product_reviews_2.asin.unique())/total)\n",
    "print (\"Proportion of unique products: \",round(product_prop,3))\n",
    "print ()\n",
    "\n",
    "#### Average Star Score\n",
    "print (\"Average rating score: \",round(product_reviews_2.rating.mean(),3))\n",
    "print ()\n",
    "\n",
    "print (\"================================================\")"
   ]
  },
  {
   "cell_type": "code",
   "execution_count": 46,
   "id": "49729110",
   "metadata": {},
   "outputs": [
    {
     "data": {
      "text/html": [
       "<div>\n",
       "<style scoped>\n",
       "    .dataframe tbody tr th:only-of-type {\n",
       "        vertical-align: middle;\n",
       "    }\n",
       "\n",
       "    .dataframe tbody tr th {\n",
       "        vertical-align: top;\n",
       "    }\n",
       "\n",
       "    .dataframe thead th {\n",
       "        text-align: right;\n",
       "    }\n",
       "</style>\n",
       "<table border=\"1\" class=\"dataframe\">\n",
       "  <thead>\n",
       "    <tr style=\"text-align: right;\">\n",
       "      <th></th>\n",
       "      <th>rating</th>\n",
       "    </tr>\n",
       "  </thead>\n",
       "  <tbody>\n",
       "    <tr>\n",
       "      <th>count</th>\n",
       "      <td>381897.000000</td>\n",
       "    </tr>\n",
       "    <tr>\n",
       "      <th>mean</th>\n",
       "      <td>4.108917</td>\n",
       "    </tr>\n",
       "    <tr>\n",
       "      <th>std</th>\n",
       "      <td>1.363400</td>\n",
       "    </tr>\n",
       "    <tr>\n",
       "      <th>min</th>\n",
       "      <td>1.000000</td>\n",
       "    </tr>\n",
       "    <tr>\n",
       "      <th>25%</th>\n",
       "      <td>4.000000</td>\n",
       "    </tr>\n",
       "    <tr>\n",
       "      <th>50%</th>\n",
       "      <td>5.000000</td>\n",
       "    </tr>\n",
       "    <tr>\n",
       "      <th>75%</th>\n",
       "      <td>5.000000</td>\n",
       "    </tr>\n",
       "    <tr>\n",
       "      <th>max</th>\n",
       "      <td>5.000000</td>\n",
       "    </tr>\n",
       "  </tbody>\n",
       "</table>\n",
       "</div>"
      ],
      "text/plain": [
       "              rating\n",
       "count  381897.000000\n",
       "mean        4.108917\n",
       "std         1.363400\n",
       "min         1.000000\n",
       "25%         4.000000\n",
       "50%         5.000000\n",
       "75%         5.000000\n",
       "max         5.000000"
      ]
     },
     "execution_count": 46,
     "metadata": {},
     "output_type": "execute_result"
    }
   ],
   "source": [
    "product_reviews_2[['rating']].describe()"
   ]
  },
  {
   "cell_type": "code",
   "execution_count": 47,
   "id": "11e9a4af",
   "metadata": {},
   "outputs": [],
   "source": [
    "#### Plot Distribution Of Rating\n",
    "\n",
    "import matplotlib.pyplot as plt"
   ]
  },
  {
   "cell_type": "code",
   "execution_count": 48,
   "id": "2ce96cb4",
   "metadata": {},
   "outputs": [],
   "source": [
    "import seaborn as sns"
   ]
  },
  {
   "cell_type": "code",
   "execution_count": 49,
   "id": "47f046d4",
   "metadata": {
    "scrolled": false
   },
   "outputs": [
    {
     "data": {
      "text/plain": [
       "Text(0, 0.5, 'Number of Reviews')"
      ]
     },
     "execution_count": 49,
     "metadata": {},
     "output_type": "execute_result"
    },
    {
     "data": {
      "image/png": "[encoded data removed]",
      "text/plain": [
       "<Figure size 864x576 with 1 Axes>"
      ]
     },
     "metadata": {
      "needs_background": "light"
     },
     "output_type": "display_data"
    }
   ],
   "source": [
    "#### Plotting Number of reviews V/s Ratings\n",
    "plt.figure(figsize=(12,8))\n",
    "product_reviews_2['rating'].value_counts().sort_index().plot(kind='bar')\n",
    "plt.title('Distribution of Rating')\n",
    "plt.xlabel('Rating')\n",
    "plt.ylabel('Number of Reviews')"
   ]
  },
  {
   "cell_type": "code",
   "execution_count": 50,
   "id": "de3a7207",
   "metadata": {
    "scrolled": false
   },
   "outputs": [
    {
     "data": {
      "text/plain": [
       "Waterpik             17056\n",
       "Philips Norelco      14442\n",
       "Panasonic             4718\n",
       "Astra                 4578\n",
       "Braun                 4516\n",
       "Helen Of Troy         4333\n",
       "Pre de Provence       3587\n",
       "Aquaphor              2879\n",
       "Gillette              2732\n",
       "NARS                  2542\n",
       "Bath & Body Works     2516\n",
       "Fiery Youth           2171\n",
       "Italia-Deluxe         1957\n",
       "Crest                 1951\n",
       "Williams              1883\n",
       "Philips Sonicare      1862\n",
       "Avalon                1826\n",
       "Style Edit            1767\n",
       "Oral-B                1722\n",
       "Heritage Products     1670\n",
       "Citre Shine           1422\n",
       "Jubujub               1325\n",
       "Urban Spa             1279\n",
       "Remington             1216\n",
       "e.l.f.                1214\n",
       "Neutrogena            1200\n",
       "Super Sunnies         1198\n",
       "Avalon Organics       1178\n",
       "General               1127\n",
       "Greenvida             1100\n",
       "Name: brand, dtype: int64"
      ]
     },
     "execution_count": 50,
     "metadata": {},
     "output_type": "execute_result"
    },
    {
     "data": {
      "image/png": "[encoded data removed]",
      "text/plain": [
       "<Figure size 1152x432 with 1 Axes>"
      ]
     },
     "metadata": {
      "needs_background": "light"
     },
     "output_type": "display_data"
    }
   ],
   "source": [
    "#### Plotting Top 30 V/s Number Of Reviews\n",
    "top_30 = product_reviews_2['brand'].value_counts()[:30]\n",
    "top_30.plot(kind='bar' , figsize=(16,6))\n",
    "top_30"
   ]
  },
  {
   "cell_type": "code",
   "execution_count": 51,
   "id": "c27858e2",
   "metadata": {
    "scrolled": false
   },
   "outputs": [
    {
     "data": {
      "text/plain": [
       "Waterpik Ultra Water Flosser                                                                                                                                                                                   17008\n",
       "Astra Platinum Double Edge Safety Razor Blades ,100 Blades (20 x 5)                                                                                                                                             4578\n",
       "Panasonic Bikini Shaper and Trimmer for Women ES246AC; Compact; Portable Design with Adjustable Trim Settings; Battery Operated                                                                                 4494\n",
       "Bali Secrets Natural Deodorant - Organic &amp; Vegan - For Women &amp; Men - All Day Fresh - Strong &amp; Reliable Protection - 2.5 fl.oz/75ml [Scent: Sandalwood]                                              4241\n",
       "Braun Clean &amp; Renew Refill Cartridges CCR - 2 Count (Packaging May Vary)                                                                                                                                    3074\n",
       "Pre de Provence Artisanal French Soap Bar Enriched with Shea Butter, Quad-Milled For A Smooth &amp; Rich Lather (150 grams) - Raspberry                                                                         2957\n",
       "Aquaphor Healing Ointment,Advanced Therapy Skin Protectant 14 Ounce ( Pack May Vary )                                                                                                                           2787\n",
       "Helen of Troy 1579 Tangle Free Hot Air Brush, White, 3/4 Inch Barrel                                                                                                                                            2387\n",
       "Bath &amp; Body Works Ile De Tahiti Moana Coconut Vanille Moana Body Wash with Tamanoi 8.5 oz                                                                                                                   2230\n",
       "Italia Deluxe Ultra Fine Lip Liner set (Pack Of 12)                                                                                                                                                             1957\n",
       "Helen of Troy 1514 Brush Iron, White, 1 1/2 Inches Barrel                                                                                                                                                       1898\n",
       "Eyelash Growth Serum - 100% Natural Eyelash Eyebrow Enhancer Lash Growth Serum give you Longer and Thicker Eyelash, Fuller and Healthier Eyebrow - 3ml - No more False Eyelashes &amp; Eyebrow Tattooing        1844\n",
       "Style Edit Root Concealer 2 oz, Medium Brown                                                                                                                                                                    1767\n",
       "Water-Rosewater Heritage Store 8 oz Liquid                                                                                                                                                                      1660\n",
       "NARS Blush, Taj Mahal                                                                                                                                                                                           1566\n",
       "Philips Norelco HQ 55 Reflex Replacement Heads                                                                                                                                                                  1440\n",
       "Citre Shine Moisture Burst Shampoo - 16 fl oz                                                                                                                                                                   1420\n",
       "Philips Norelco G370 All-in-1 Grooming System                                                                                                                                                                   1330\n",
       "Philips Norelco 7310 Men's Shaving System                                                                                                                                                                       1329\n",
       "FOONEE Rhinestones Nail Art Gems Mixed Colours Shapes in Case (2mm,3000pcs)                                                                                                                                     1220\n",
       "Urban Spa Moisturizing Booties to Keep your Feet Smooth, Hydrated and Moisturized                                                                                                                               1136\n",
       "Philips Norelco BG2020 BodyGroom                                                                                                                                                                                1128\n",
       "Williams Lectric Shave, 7 Ounce                                                                                                                                                                                 1086\n",
       "Philips Sonicare Sonic Electric Rechargeable Toothbrush for Kids, HX6311/07                                                                                                                                     1080\n",
       "Poppy Austin Pure Argan Oil for Hair &amp; Skin - Vegan, Cruelty-Free &amp; Organic Finest Grade, 2 oz                                                                                                          1079\n",
       "essie nail polish, cuticle care, primers and finishers                                                                                                                                                          1020\n",
       "Bonne Bell Smackers Bath and Body Starburst Collection                                                                                                                                                          1004\n",
       "Catrice Stylist Eyebrow pencil With Brush Color 020 Date With Ash-ton 0.057 oz                                                                                                                                   987\n",
       "Remington MS2-390 Microscreen Rechargeable/Corded Men's Shaver                                                                                                                                                   973\n",
       "OZNaturals Anti Aging Retinol Serum -The Most Effective Anti Wrinkle Serum Contains Professional Strength Retinol+ Astaxanthin+ Vitamin E - Get The Dramatic Youthful Results You&rsquo;ve Been Looking For      972\n",
       "Name: title, dtype: int64"
      ]
     },
     "execution_count": 51,
     "metadata": {},
     "output_type": "execute_result"
    },
    {
     "data": {
      "image/png": "[encoded data removed]",
      "text/plain": [
       "<Figure size 1152x432 with 1 Axes>"
      ]
     },
     "metadata": {
      "needs_background": "light"
     },
     "output_type": "display_data"
    }
   ],
   "source": [
    "top_30 = product_reviews_2['title'].value_counts()[:30]\n",
    "top_30.plot(kind='bar' , figsize=(16,6))\n",
    "top_30"
   ]
  },
  {
   "cell_type": "code",
   "execution_count": 52,
   "id": "8c61b204",
   "metadata": {},
   "outputs": [],
   "source": [
    "df_waterpik = product_reviews_2[product_reviews_2.brand == 'Waterpik']"
   ]
  },
  {
   "cell_type": "code",
   "execution_count": 53,
   "id": "ecd15d9a",
   "metadata": {},
   "outputs": [
    {
     "data": {
      "text/plain": [
       "Waterpik Ultra Water Flosser                                                  17008\n",
       "Waterpik WP-114W Ultra Designer Black Countertop Water Flosser                   33\n",
       "Waterpik Aquarius Professional Water Flosser Designer Series, Blue, WP-673        9\n",
       "Waterpik 2SIP-2W Sensonic Replacement Toothbrushes                                3\n",
       "Waterpik Wp-260rh Replacement Handle and Hose for WP-260                          3\n",
       "Name: title, dtype: int64"
      ]
     },
     "execution_count": 53,
     "metadata": {},
     "output_type": "execute_result"
    },
    {
     "data": {
      "image/png": "[encoded data removed]",
      "text/plain": [
       "<Figure size 1152x432 with 1 Axes>"
      ]
     },
     "metadata": {
      "needs_background": "light"
     },
     "output_type": "display_data"
    }
   ],
   "source": [
    "top_5 = df_waterpik['title'].value_counts()[:5]\n",
    "top_5.plot(kind='bar' , figsize=(16,6))\n",
    "top_5"
   ]
  },
  {
   "cell_type": "code",
   "execution_count": 54,
   "id": "5147b841",
   "metadata": {},
   "outputs": [],
   "source": [
    "df_philips = product_reviews_2[product_reviews_2.brand == 'Philips Norelco']"
   ]
  },
  {
   "cell_type": "code",
   "execution_count": 55,
   "id": "d9b7583a",
   "metadata": {},
   "outputs": [
    {
     "data": {
      "text/plain": [
       "Philips Norelco HQ 55 Reflex Replacement Heads    1440\n",
       "Philips Norelco G370 All-in-1 Grooming System     1330\n",
       "Philips Norelco 7310 Men's Shaving System         1329\n",
       "Philips Norelco BG2020 BodyGroom                  1128\n",
       "Philips Norelco T980 Turbo Vacuum Trimmer          831\n",
       "Name: title, dtype: int64"
      ]
     },
     "execution_count": 55,
     "metadata": {},
     "output_type": "execute_result"
    },
    {
     "data": {
      "image/png": "[encoded data removed]",
      "text/plain": [
       "<Figure size 1152x432 with 1 Axes>"
      ]
     },
     "metadata": {
      "needs_background": "light"
     },
     "output_type": "display_data"
    }
   ],
   "source": [
    "top_5 = df_philips['title'].value_counts()[:5]\n",
    "top_5.plot(kind='bar' , figsize=(16,6))\n",
    "top_5"
   ]
  },
  {
   "cell_type": "code",
   "execution_count": 56,
   "id": "2e5ef069",
   "metadata": {},
   "outputs": [],
   "source": [
    "df_panasonic = product_reviews_2[product_reviews_2.brand == 'Panasonic']"
   ]
  },
  {
   "cell_type": "code",
   "execution_count": 57,
   "id": "74b62043",
   "metadata": {},
   "outputs": [
    {
     "data": {
      "text/plain": [
       "Panasonic Bikini Shaper and Trimmer for Women ES246AC; Compact; Portable Design with Adjustable Trim Settings; Battery Operated    4494\n",
       "Panasonic ES3833S Pro-Curve Wet/Dry Travel Shaver with Case, Silver                                                                  55\n",
       "Panasonic Electric Pore Cleanser EH2592PP Pink | DC1.5V (1 x AAA battery) (Japan Import)                                             55\n",
       "Panasonic WES9839P Men's Electric Razor Replacement Inner Blade &amp; Outer Foil Set                                                 47\n",
       "Panasonic Close Curves Wet/Dry Ladies Shaver                                                                                         35\n",
       "Name: title, dtype: int64"
      ]
     },
     "execution_count": 57,
     "metadata": {},
     "output_type": "execute_result"
    },
    {
     "data": {
      "image/png": "[encoded data removed]",
      "text/plain": [
       "<Figure size 1152x432 with 1 Axes>"
      ]
     },
     "metadata": {
      "needs_background": "light"
     },
     "output_type": "display_data"
    }
   ],
   "source": [
    "top_5 = df_panasonic['title'].value_counts()[:5]\n",
    "top_5.plot(kind='bar' , figsize=(16,6))\n",
    "top_5"
   ]
  },
  {
   "cell_type": "code",
   "execution_count": 58,
   "id": "361c1ac7",
   "metadata": {},
   "outputs": [
    {
     "data": {
      "text/plain": [
       "rating\n",
       "1     40497\n",
       "2     20981\n",
       "3     30488\n",
       "4     54395\n",
       "5    235536\n",
       "dtype: int64"
      ]
     },
     "execution_count": 58,
     "metadata": {},
     "output_type": "execute_result"
    }
   ],
   "source": [
    "#### Distribution Of Rating Score\n",
    "\n",
    "class_counts = product_reviews_2.groupby('rating').size()\n",
    "class_counts"
   ]
  },
  {
   "cell_type": "code",
   "execution_count": 59,
   "id": "dc8ec504",
   "metadata": {},
   "outputs": [
    {
     "data": {
      "text/plain": [
       "good    320419\n",
       "bad      61478\n",
       "Name: rating_class, dtype: int64"
      ]
     },
     "execution_count": 59,
     "metadata": {},
     "output_type": "execute_result"
    }
   ],
   "source": [
    "#### Customer Totals For Each Rating Class\n",
    "product_reviews_2['rating_class'].value_counts()"
   ]
  },
  {
   "cell_type": "code",
   "execution_count": 60,
   "id": "281a18b5",
   "metadata": {
    "scrolled": true
   },
   "outputs": [
    {
     "name": "stdout",
     "output_type": "stream",
     "text": [
      "================================================\n",
      "\n",
      "Number of unique customers : 318788\n",
      "\n",
      "Number of unique products : 32465\n",
      "\n",
      "Review per customer: 1.1979654190245554\n",
      "\n",
      "Review per product: 11.763345140920991\n",
      "\n",
      "================================================\n"
     ]
    }
   ],
   "source": [
    "\n",
    "print (\"================================================\")\n",
    "\n",
    "#### Print the number of unique customers\n",
    "print('\\nNumber of unique customers : {}'.format(len(product_reviews_2['reviewerID'].unique())))\n",
    "\n",
    "#### Print the number of unique products\n",
    "print('\\nNumber of unique products : {}'.format(len(product_reviews_2['asin'].unique())))\n",
    " \n",
    "#### Print the number of reviews per customer\n",
    "print('\\nReview per customer: {}'.format((len(product_reviews_2)/len(product_reviews_2['reviewerID'].unique()))))      \n",
    "\n",
    "#### Print the number of reviews per product\n",
    "print('\\nReview per product: {}'.format((len(product_reviews_2)/len(product_reviews_2['asin'].unique()))))\n",
    "\n",
    "print ()\n",
    "print (\"================================================\")\n"
   ]
  },
  {
   "cell_type": "code",
   "execution_count": 61,
   "id": "0925c12f",
   "metadata": {},
   "outputs": [],
   "source": [
    "#### Hypothesis Testing"
   ]
  },
  {
   "cell_type": "code",
   "execution_count": 62,
   "id": "1ea7b631",
   "metadata": {},
   "outputs": [],
   "source": [
    "rat = product_reviews_2['rating']"
   ]
  },
  {
   "cell_type": "code",
   "execution_count": 63,
   "id": "ce042ee0",
   "metadata": {},
   "outputs": [],
   "source": [
    "df_hyp = rat[0:400]"
   ]
  },
  {
   "cell_type": "code",
   "execution_count": 64,
   "id": "d32bb0a8",
   "metadata": {},
   "outputs": [],
   "source": [
    "df_hyp.to_csv('C:/Users/Hp/OneDrive/Desktop/Data Science Project/df_hyp.csv', index = False)"
   ]
  },
  {
   "cell_type": "code",
   "execution_count": 65,
   "id": "2cd33b74",
   "metadata": {
    "scrolled": true
   },
   "outputs": [
    {
     "name": "stdout",
     "output_type": "stream",
     "text": [
      "Requirement already satisfied: imbalanced-learn in c:\\users\\hp\\miniconda3\\lib\\site-packages (0.9.0)\n",
      "Requirement already satisfied: numpy>=1.14.6 in c:\\users\\hp\\miniconda3\\lib\\site-packages (from imbalanced-learn) (1.22.3)\n",
      "Requirement already satisfied: scikit-learn>=1.0.1 in c:\\users\\hp\\miniconda3\\lib\\site-packages (from imbalanced-learn) (1.0.2)\n",
      "Requirement already satisfied: scipy>=1.1.0 in c:\\users\\hp\\miniconda3\\lib\\site-packages (from imbalanced-learn) (1.8.0)\n",
      "Requirement already satisfied: threadpoolctl>=2.0.0 in c:\\users\\hp\\miniconda3\\lib\\site-packages (from imbalanced-learn) (3.1.0)\n",
      "Requirement already satisfied: joblib>=0.11 in c:\\users\\hp\\miniconda3\\lib\\site-packages (from imbalanced-learn) (1.1.0)\n",
      "Note: you may need to restart the kernel to use updated packages.\n"
     ]
    }
   ],
   "source": [
    "pip install -U imbalanced-learn"
   ]
  },
  {
   "cell_type": "code",
   "execution_count": 139,
   "id": "62641987",
   "metadata": {},
   "outputs": [
    {
     "name": "stdout",
     "output_type": "stream",
     "text": [
      "        rating  verified   reviewTime      reviewerID        asin  \\\n",
      "0            5         1  03 10, 2016   A5TA1NJOC0PJ5  7414204790   \n",
      "1            5         1   09 1, 2015  A1TJICB7VLGQKL  7414204790   \n",
      "2            5         1   10 3, 2014   A80M2286B7STE  7414204790   \n",
      "3            5         1   08 7, 2014  A2TM2MAA8IT34U  7414204790   \n",
      "4            4         1  06 14, 2014   AQGWT465GTEJG  7414204790   \n",
      "...        ...       ...          ...             ...         ...   \n",
      "381892       1         1  07 20, 2017  A202DCI7TV1022  B01HJEGTYK   \n",
      "381893       5         1  03 16, 2017  A3FSOR5IJOFIBE  B01HJEGTYK   \n",
      "381894       5         1   03 1, 2017  A1B5DK6CTP2P24  B01HJEGTYK   \n",
      "381895       2         1  02 21, 2017  A23OUYS5IRMJS9  B01HJEGTYK   \n",
      "381896       2         1  12 15, 2016  A24KQ9RVU81L87  B01HJEGTYK   \n",
      "\n",
      "             reviewerName  unixReviewTime category  \\\n",
      "0         Amazon Customer      1457568000       []   \n",
      "1                      LH      1441065600       []   \n",
      "2                   dolly      1412294400       []   \n",
      "3               Jack Warn      1407369600       []   \n",
      "4       Chitralekha Tulal      1402704000       []   \n",
      "...                   ...             ...      ...   \n",
      "381892                Sam      1500508800       []   \n",
      "381893                TYW      1489622400       []   \n",
      "381894     Norma Jennings      1488326400       []   \n",
      "381895                Lee      1487635200       []   \n",
      "381896          Season341      1481760000       []   \n",
      "\n",
      "                                                    title  \\\n",
      "0       Lacto Calamine Skin Balance Oil control 120 ml...   \n",
      "1       Lacto Calamine Skin Balance Oil control 120 ml...   \n",
      "2       Lacto Calamine Skin Balance Oil control 120 ml...   \n",
      "3       Lacto Calamine Skin Balance Oil control 120 ml...   \n",
      "4       Lacto Calamine Skin Balance Oil control 120 ml...   \n",
      "...                                                   ...   \n",
      "381892  FESHFEN Scrunchy Scrunchies Synthetic Hair Bun...   \n",
      "381893  FESHFEN Scrunchy Scrunchies Synthetic Hair Bun...   \n",
      "381894  FESHFEN Scrunchy Scrunchies Synthetic Hair Bun...   \n",
      "381895  FESHFEN Scrunchy Scrunchies Synthetic Hair Bun...   \n",
      "381896  FESHFEN Scrunchy Scrunchies Synthetic Hair Bun...   \n",
      "\n",
      "                                                 also_buy              brand  \\\n",
      "0                                                      []  Pirmal Healthcare   \n",
      "1                                                      []  Pirmal Healthcare   \n",
      "2                                                      []  Pirmal Healthcare   \n",
      "3                                                      []  Pirmal Healthcare   \n",
      "4                                                      []  Pirmal Healthcare   \n",
      "...                                                   ...                ...   \n",
      "381892  ['B01HJEGQ6Q', 'B01L66EYCG', 'B00H7YZ7HI', 'B0...                NaN   \n",
      "381893  ['B01HJEGQ6Q', 'B01L66EYCG', 'B00H7YZ7HI', 'B0...                NaN   \n",
      "381894  ['B01HJEGQ6Q', 'B01L66EYCG', 'B00H7YZ7HI', 'B0...                NaN   \n",
      "381895  ['B01HJEGQ6Q', 'B01L66EYCG', 'B00H7YZ7HI', 'B0...                NaN   \n",
      "381896  ['B01HJEGQ6Q', 'B01L66EYCG', 'B00H7YZ7HI', 'B0...                NaN   \n",
      "\n",
      "       feature                                 rank  \\\n",
      "0           []   67,701 in Beauty & Personal Care (   \n",
      "1           []   67,701 in Beauty & Personal Care (   \n",
      "2           []   67,701 in Beauty & Personal Care (   \n",
      "3           []   67,701 in Beauty & Personal Care (   \n",
      "4           []   67,701 in Beauty & Personal Care (   \n",
      "...        ...                                  ...   \n",
      "381892      []  478,123 in Beauty & Personal Care (   \n",
      "381893      []  478,123 in Beauty & Personal Care (   \n",
      "381894      []  478,123 in Beauty & Personal Care (   \n",
      "381895      []  478,123 in Beauty & Personal Care (   \n",
      "381896      []  478,123 in Beauty & Personal Care (   \n",
      "\n",
      "                                                also_view    main_cat date  \\\n",
      "0       ['3254895630', 'B007VL1D9S', 'B00EH9A0RI', 'B0...  All Beauty  NaN   \n",
      "1       ['3254895630', 'B007VL1D9S', 'B00EH9A0RI', 'B0...  All Beauty  NaN   \n",
      "2       ['3254895630', 'B007VL1D9S', 'B00EH9A0RI', 'B0...  All Beauty  NaN   \n",
      "3       ['3254895630', 'B007VL1D9S', 'B00EH9A0RI', 'B0...  All Beauty  NaN   \n",
      "4       ['3254895630', 'B007VL1D9S', 'B00EH9A0RI', 'B0...  All Beauty  NaN   \n",
      "...                                                   ...         ...  ...   \n",
      "381892                       ['B06XNM7CGD', 'B071D7TMQS']  All Beauty  NaN   \n",
      "381893                       ['B06XNM7CGD', 'B071D7TMQS']  All Beauty  NaN   \n",
      "381894                       ['B06XNM7CGD', 'B071D7TMQS']  All Beauty  NaN   \n",
      "381895                       ['B06XNM7CGD', 'B071D7TMQS']  All Beauty  NaN   \n",
      "381896                       ['B06XNM7CGD', 'B071D7TMQS']  All Beauty  NaN   \n",
      "\n",
      "         price                                         review_txt rating_class  \n",
      "0       $12.15                     Five Stars Excellent very good         good  \n",
      "1       $12.15                           Five Stars Great product         good  \n",
      "2       $12.15                                 Five Stars Magical         good  \n",
      "3       $12.15                            Five Stars Excellent!!!         good  \n",
      "4       $12.15  Very pricey I do like the product a lot...I ha...         good  \n",
      "...        ...                                                ...          ...  \n",
      "381892     NaN  It was super frizzy and I tried to comb it and...          bad  \n",
      "381893     NaN  Awesome I was skeptical about buying this.  Wo...         good  \n",
      "381894     NaN                Five Stars Makes me look good fast.         good  \n",
      "381895     NaN  Ok but color way off and volume as well Way li...          bad  \n",
      "381896     NaN  Might return for a replacement if I could. No ...          bad  \n",
      "\n",
      "[381897 rows x 19 columns]\n"
     ]
    }
   ],
   "source": [
    "df = pd.DataFrame(product_reviews_2)\n",
    "df['verified'] = df['verified'].astype(int)\n",
    "print(df)"
   ]
  },
  {
   "cell_type": "code",
   "execution_count": 240,
   "id": "e87cb59c",
   "metadata": {},
   "outputs": [],
   "source": [
    "x= product_reviews_2.drop(['rating' , 'reviewTime' , 'reviewerID', 'asin', 'reviewerName' , 'category' ,'title','also_buy', 'brand', 'feature','rank','also_view','main_cat', 'date','price', 'review_txt', 'rating_class'], axis=1)\n",
    "y= product_reviews_2['rating']"
   ]
  },
  {
   "cell_type": "code",
   "execution_count": 241,
   "id": "4ebf0dde",
   "metadata": {},
   "outputs": [
    {
     "data": {
      "text/plain": [
       "5    235536\n",
       "4     54395\n",
       "1     40497\n",
       "3     30488\n",
       "2     20981\n",
       "Name: rating, dtype: int64"
      ]
     },
     "execution_count": 241,
     "metadata": {},
     "output_type": "execute_result"
    }
   ],
   "source": [
    "rating_count = y.value_counts()\n",
    "rating_count"
   ]
  },
  {
   "cell_type": "code",
   "execution_count": 242,
   "id": "a7767d6b",
   "metadata": {},
   "outputs": [
    {
     "data": {
      "text/plain": [
       "<AxesSubplot:ylabel='rating'>"
      ]
     },
     "execution_count": 242,
     "metadata": {},
     "output_type": "execute_result"
    },
    {
     "data": {
      "image/png": "[encoded data removed]",
      "text/plain": [
       "<Figure size 432x288 with 1 Axes>"
      ]
     },
     "metadata": {},
     "output_type": "display_data"
    }
   ],
   "source": [
    "#pie chart showing the result\n",
    "y.value_counts().plot.pie(autopct='%.2f%%')"
   ]
  },
  {
   "cell_type": "code",
   "execution_count": 243,
   "id": "91d0d899",
   "metadata": {},
   "outputs": [],
   "source": [
    "#data splitting\n",
    "from sklearn.linear_model import LinearRegression\n",
    "from sklearn.model_selection import train_test_split\n"
   ]
  },
  {
   "cell_type": "code",
   "execution_count": 244,
   "id": "e31bf0c7",
   "metadata": {
    "scrolled": true
   },
   "outputs": [
    {
     "data": {
      "text/html": [
       "<div>\n",
       "<style scoped>\n",
       "    .dataframe tbody tr th:only-of-type {\n",
       "        vertical-align: middle;\n",
       "    }\n",
       "\n",
       "    .dataframe tbody tr th {\n",
       "        vertical-align: top;\n",
       "    }\n",
       "\n",
       "    .dataframe thead th {\n",
       "        text-align: right;\n",
       "    }\n",
       "</style>\n",
       "<table border=\"1\" class=\"dataframe\">\n",
       "  <thead>\n",
       "    <tr style=\"text-align: right;\">\n",
       "      <th></th>\n",
       "      <th>rating</th>\n",
       "      <th>verified</th>\n",
       "      <th>reviewTime</th>\n",
       "      <th>reviewerID</th>\n",
       "      <th>asin</th>\n",
       "      <th>reviewerName</th>\n",
       "      <th>unixReviewTime</th>\n",
       "      <th>category</th>\n",
       "      <th>title</th>\n",
       "      <th>also_buy</th>\n",
       "      <th>brand</th>\n",
       "      <th>feature</th>\n",
       "      <th>rank</th>\n",
       "      <th>also_view</th>\n",
       "      <th>main_cat</th>\n",
       "      <th>date</th>\n",
       "      <th>price</th>\n",
       "      <th>review_txt</th>\n",
       "      <th>rating_class</th>\n",
       "    </tr>\n",
       "  </thead>\n",
       "  <tbody>\n",
       "    <tr>\n",
       "      <th>0</th>\n",
       "      <td>5</td>\n",
       "      <td>1</td>\n",
       "      <td>03 10, 2016</td>\n",
       "      <td>A5TA1NJOC0PJ5</td>\n",
       "      <td>7414204790</td>\n",
       "      <td>Amazon Customer</td>\n",
       "      <td>1457568000</td>\n",
       "      <td>[]</td>\n",
       "      <td>Lacto Calamine Skin Balance Oil control 120 ml...</td>\n",
       "      <td>[]</td>\n",
       "      <td>Pirmal Healthcare</td>\n",
       "      <td>[]</td>\n",
       "      <td>67,701 in Beauty &amp; Personal Care (</td>\n",
       "      <td>['3254895630', 'B007VL1D9S', 'B00EH9A0RI', 'B0...</td>\n",
       "      <td>All Beauty</td>\n",
       "      <td>NaN</td>\n",
       "      <td>$12.15</td>\n",
       "      <td>Five Stars Excellent very good</td>\n",
       "      <td>good</td>\n",
       "    </tr>\n",
       "    <tr>\n",
       "      <th>1</th>\n",
       "      <td>5</td>\n",
       "      <td>1</td>\n",
       "      <td>09 1, 2015</td>\n",
       "      <td>A1TJICB7VLGQKL</td>\n",
       "      <td>7414204790</td>\n",
       "      <td>LH</td>\n",
       "      <td>1441065600</td>\n",
       "      <td>[]</td>\n",
       "      <td>Lacto Calamine Skin Balance Oil control 120 ml...</td>\n",
       "      <td>[]</td>\n",
       "      <td>Pirmal Healthcare</td>\n",
       "      <td>[]</td>\n",
       "      <td>67,701 in Beauty &amp; Personal Care (</td>\n",
       "      <td>['3254895630', 'B007VL1D9S', 'B00EH9A0RI', 'B0...</td>\n",
       "      <td>All Beauty</td>\n",
       "      <td>NaN</td>\n",
       "      <td>$12.15</td>\n",
       "      <td>Five Stars Great product</td>\n",
       "      <td>good</td>\n",
       "    </tr>\n",
       "    <tr>\n",
       "      <th>2</th>\n",
       "      <td>5</td>\n",
       "      <td>1</td>\n",
       "      <td>10 3, 2014</td>\n",
       "      <td>A80M2286B7STE</td>\n",
       "      <td>7414204790</td>\n",
       "      <td>dolly</td>\n",
       "      <td>1412294400</td>\n",
       "      <td>[]</td>\n",
       "      <td>Lacto Calamine Skin Balance Oil control 120 ml...</td>\n",
       "      <td>[]</td>\n",
       "      <td>Pirmal Healthcare</td>\n",
       "      <td>[]</td>\n",
       "      <td>67,701 in Beauty &amp; Personal Care (</td>\n",
       "      <td>['3254895630', 'B007VL1D9S', 'B00EH9A0RI', 'B0...</td>\n",
       "      <td>All Beauty</td>\n",
       "      <td>NaN</td>\n",
       "      <td>$12.15</td>\n",
       "      <td>Five Stars Magical</td>\n",
       "      <td>good</td>\n",
       "    </tr>\n",
       "    <tr>\n",
       "      <th>3</th>\n",
       "      <td>5</td>\n",
       "      <td>1</td>\n",
       "      <td>08 7, 2014</td>\n",
       "      <td>A2TM2MAA8IT34U</td>\n",
       "      <td>7414204790</td>\n",
       "      <td>Jack Warn</td>\n",
       "      <td>1407369600</td>\n",
       "      <td>[]</td>\n",
       "      <td>Lacto Calamine Skin Balance Oil control 120 ml...</td>\n",
       "      <td>[]</td>\n",
       "      <td>Pirmal Healthcare</td>\n",
       "      <td>[]</td>\n",
       "      <td>67,701 in Beauty &amp; Personal Care (</td>\n",
       "      <td>['3254895630', 'B007VL1D9S', 'B00EH9A0RI', 'B0...</td>\n",
       "      <td>All Beauty</td>\n",
       "      <td>NaN</td>\n",
       "      <td>$12.15</td>\n",
       "      <td>Five Stars Excellent!!!</td>\n",
       "      <td>good</td>\n",
       "    </tr>\n",
       "    <tr>\n",
       "      <th>4</th>\n",
       "      <td>4</td>\n",
       "      <td>1</td>\n",
       "      <td>06 14, 2014</td>\n",
       "      <td>AQGWT465GTEJG</td>\n",
       "      <td>7414204790</td>\n",
       "      <td>Chitralekha Tulal</td>\n",
       "      <td>1402704000</td>\n",
       "      <td>[]</td>\n",
       "      <td>Lacto Calamine Skin Balance Oil control 120 ml...</td>\n",
       "      <td>[]</td>\n",
       "      <td>Pirmal Healthcare</td>\n",
       "      <td>[]</td>\n",
       "      <td>67,701 in Beauty &amp; Personal Care (</td>\n",
       "      <td>['3254895630', 'B007VL1D9S', 'B00EH9A0RI', 'B0...</td>\n",
       "      <td>All Beauty</td>\n",
       "      <td>NaN</td>\n",
       "      <td>$12.15</td>\n",
       "      <td>Very pricey I do like the product a lot...I ha...</td>\n",
       "      <td>good</td>\n",
       "    </tr>\n",
       "    <tr>\n",
       "      <th>...</th>\n",
       "      <td>...</td>\n",
       "      <td>...</td>\n",
       "      <td>...</td>\n",
       "      <td>...</td>\n",
       "      <td>...</td>\n",
       "      <td>...</td>\n",
       "      <td>...</td>\n",
       "      <td>...</td>\n",
       "      <td>...</td>\n",
       "      <td>...</td>\n",
       "      <td>...</td>\n",
       "      <td>...</td>\n",
       "      <td>...</td>\n",
       "      <td>...</td>\n",
       "      <td>...</td>\n",
       "      <td>...</td>\n",
       "      <td>...</td>\n",
       "      <td>...</td>\n",
       "      <td>...</td>\n",
       "    </tr>\n",
       "    <tr>\n",
       "      <th>381892</th>\n",
       "      <td>1</td>\n",
       "      <td>1</td>\n",
       "      <td>07 20, 2017</td>\n",
       "      <td>A202DCI7TV1022</td>\n",
       "      <td>B01HJEGTYK</td>\n",
       "      <td>Sam</td>\n",
       "      <td>1500508800</td>\n",
       "      <td>[]</td>\n",
       "      <td>FESHFEN Scrunchy Scrunchies Synthetic Hair Bun...</td>\n",
       "      <td>['B01HJEGQ6Q', 'B01L66EYCG', 'B00H7YZ7HI', 'B0...</td>\n",
       "      <td>NaN</td>\n",
       "      <td>[]</td>\n",
       "      <td>478,123 in Beauty &amp; Personal Care (</td>\n",
       "      <td>['B06XNM7CGD', 'B071D7TMQS']</td>\n",
       "      <td>All Beauty</td>\n",
       "      <td>NaN</td>\n",
       "      <td>NaN</td>\n",
       "      <td>It was super frizzy and I tried to comb it and...</td>\n",
       "      <td>bad</td>\n",
       "    </tr>\n",
       "    <tr>\n",
       "      <th>381893</th>\n",
       "      <td>5</td>\n",
       "      <td>1</td>\n",
       "      <td>03 16, 2017</td>\n",
       "      <td>A3FSOR5IJOFIBE</td>\n",
       "      <td>B01HJEGTYK</td>\n",
       "      <td>TYW</td>\n",
       "      <td>1489622400</td>\n",
       "      <td>[]</td>\n",
       "      <td>FESHFEN Scrunchy Scrunchies Synthetic Hair Bun...</td>\n",
       "      <td>['B01HJEGQ6Q', 'B01L66EYCG', 'B00H7YZ7HI', 'B0...</td>\n",
       "      <td>NaN</td>\n",
       "      <td>[]</td>\n",
       "      <td>478,123 in Beauty &amp; Personal Care (</td>\n",
       "      <td>['B06XNM7CGD', 'B071D7TMQS']</td>\n",
       "      <td>All Beauty</td>\n",
       "      <td>NaN</td>\n",
       "      <td>NaN</td>\n",
       "      <td>Awesome I was skeptical about buying this.  Wo...</td>\n",
       "      <td>good</td>\n",
       "    </tr>\n",
       "    <tr>\n",
       "      <th>381894</th>\n",
       "      <td>5</td>\n",
       "      <td>1</td>\n",
       "      <td>03 1, 2017</td>\n",
       "      <td>A1B5DK6CTP2P24</td>\n",
       "      <td>B01HJEGTYK</td>\n",
       "      <td>Norma Jennings</td>\n",
       "      <td>1488326400</td>\n",
       "      <td>[]</td>\n",
       "      <td>FESHFEN Scrunchy Scrunchies Synthetic Hair Bun...</td>\n",
       "      <td>['B01HJEGQ6Q', 'B01L66EYCG', 'B00H7YZ7HI', 'B0...</td>\n",
       "      <td>NaN</td>\n",
       "      <td>[]</td>\n",
       "      <td>478,123 in Beauty &amp; Personal Care (</td>\n",
       "      <td>['B06XNM7CGD', 'B071D7TMQS']</td>\n",
       "      <td>All Beauty</td>\n",
       "      <td>NaN</td>\n",
       "      <td>NaN</td>\n",
       "      <td>Five Stars Makes me look good fast.</td>\n",
       "      <td>good</td>\n",
       "    </tr>\n",
       "    <tr>\n",
       "      <th>381895</th>\n",
       "      <td>2</td>\n",
       "      <td>1</td>\n",
       "      <td>02 21, 2017</td>\n",
       "      <td>A23OUYS5IRMJS9</td>\n",
       "      <td>B01HJEGTYK</td>\n",
       "      <td>Lee</td>\n",
       "      <td>1487635200</td>\n",
       "      <td>[]</td>\n",
       "      <td>FESHFEN Scrunchy Scrunchies Synthetic Hair Bun...</td>\n",
       "      <td>['B01HJEGQ6Q', 'B01L66EYCG', 'B00H7YZ7HI', 'B0...</td>\n",
       "      <td>NaN</td>\n",
       "      <td>[]</td>\n",
       "      <td>478,123 in Beauty &amp; Personal Care (</td>\n",
       "      <td>['B06XNM7CGD', 'B071D7TMQS']</td>\n",
       "      <td>All Beauty</td>\n",
       "      <td>NaN</td>\n",
       "      <td>NaN</td>\n",
       "      <td>Ok but color way off and volume as well Way li...</td>\n",
       "      <td>bad</td>\n",
       "    </tr>\n",
       "    <tr>\n",
       "      <th>381896</th>\n",
       "      <td>2</td>\n",
       "      <td>1</td>\n",
       "      <td>12 15, 2016</td>\n",
       "      <td>A24KQ9RVU81L87</td>\n",
       "      <td>B01HJEGTYK</td>\n",
       "      <td>Season341</td>\n",
       "      <td>1481760000</td>\n",
       "      <td>[]</td>\n",
       "      <td>FESHFEN Scrunchy Scrunchies Synthetic Hair Bun...</td>\n",
       "      <td>['B01HJEGQ6Q', 'B01L66EYCG', 'B00H7YZ7HI', 'B0...</td>\n",
       "      <td>NaN</td>\n",
       "      <td>[]</td>\n",
       "      <td>478,123 in Beauty &amp; Personal Care (</td>\n",
       "      <td>['B06XNM7CGD', 'B071D7TMQS']</td>\n",
       "      <td>All Beauty</td>\n",
       "      <td>NaN</td>\n",
       "      <td>NaN</td>\n",
       "      <td>Might return for a replacement if I could. No ...</td>\n",
       "      <td>bad</td>\n",
       "    </tr>\n",
       "  </tbody>\n",
       "</table>\n",
       "<p>381897 rows × 19 columns</p>\n",
       "</div>"
      ],
      "text/plain": [
       "        rating  verified   reviewTime      reviewerID        asin  \\\n",
       "0            5         1  03 10, 2016   A5TA1NJOC0PJ5  7414204790   \n",
       "1            5         1   09 1, 2015  A1TJICB7VLGQKL  7414204790   \n",
       "2            5         1   10 3, 2014   A80M2286B7STE  7414204790   \n",
       "3            5         1   08 7, 2014  A2TM2MAA8IT34U  7414204790   \n",
       "4            4         1  06 14, 2014   AQGWT465GTEJG  7414204790   \n",
       "...        ...       ...          ...             ...         ...   \n",
       "381892       1         1  07 20, 2017  A202DCI7TV1022  B01HJEGTYK   \n",
       "381893       5         1  03 16, 2017  A3FSOR5IJOFIBE  B01HJEGTYK   \n",
       "381894       5         1   03 1, 2017  A1B5DK6CTP2P24  B01HJEGTYK   \n",
       "381895       2         1  02 21, 2017  A23OUYS5IRMJS9  B01HJEGTYK   \n",
       "381896       2         1  12 15, 2016  A24KQ9RVU81L87  B01HJEGTYK   \n",
       "\n",
       "             reviewerName  unixReviewTime category  \\\n",
       "0         Amazon Customer      1457568000       []   \n",
       "1                      LH      1441065600       []   \n",
       "2                   dolly      1412294400       []   \n",
       "3               Jack Warn      1407369600       []   \n",
       "4       Chitralekha Tulal      1402704000       []   \n",
       "...                   ...             ...      ...   \n",
       "381892                Sam      1500508800       []   \n",
       "381893                TYW      1489622400       []   \n",
       "381894     Norma Jennings      1488326400       []   \n",
       "381895                Lee      1487635200       []   \n",
       "381896          Season341      1481760000       []   \n",
       "\n",
       "                                                    title  \\\n",
       "0       Lacto Calamine Skin Balance Oil control 120 ml...   \n",
       "1       Lacto Calamine Skin Balance Oil control 120 ml...   \n",
       "2       Lacto Calamine Skin Balance Oil control 120 ml...   \n",
       "3       Lacto Calamine Skin Balance Oil control 120 ml...   \n",
       "4       Lacto Calamine Skin Balance Oil control 120 ml...   \n",
       "...                                                   ...   \n",
       "381892  FESHFEN Scrunchy Scrunchies Synthetic Hair Bun...   \n",
       "381893  FESHFEN Scrunchy Scrunchies Synthetic Hair Bun...   \n",
       "381894  FESHFEN Scrunchy Scrunchies Synthetic Hair Bun...   \n",
       "381895  FESHFEN Scrunchy Scrunchies Synthetic Hair Bun...   \n",
       "381896  FESHFEN Scrunchy Scrunchies Synthetic Hair Bun...   \n",
       "\n",
       "                                                 also_buy              brand  \\\n",
       "0                                                      []  Pirmal Healthcare   \n",
       "1                                                      []  Pirmal Healthcare   \n",
       "2                                                      []  Pirmal Healthcare   \n",
       "3                                                      []  Pirmal Healthcare   \n",
       "4                                                      []  Pirmal Healthcare   \n",
       "...                                                   ...                ...   \n",
       "381892  ['B01HJEGQ6Q', 'B01L66EYCG', 'B00H7YZ7HI', 'B0...                NaN   \n",
       "381893  ['B01HJEGQ6Q', 'B01L66EYCG', 'B00H7YZ7HI', 'B0...                NaN   \n",
       "381894  ['B01HJEGQ6Q', 'B01L66EYCG', 'B00H7YZ7HI', 'B0...                NaN   \n",
       "381895  ['B01HJEGQ6Q', 'B01L66EYCG', 'B00H7YZ7HI', 'B0...                NaN   \n",
       "381896  ['B01HJEGQ6Q', 'B01L66EYCG', 'B00H7YZ7HI', 'B0...                NaN   \n",
       "\n",
       "       feature                                 rank  \\\n",
       "0           []   67,701 in Beauty & Personal Care (   \n",
       "1           []   67,701 in Beauty & Personal Care (   \n",
       "2           []   67,701 in Beauty & Personal Care (   \n",
       "3           []   67,701 in Beauty & Personal Care (   \n",
       "4           []   67,701 in Beauty & Personal Care (   \n",
       "...        ...                                  ...   \n",
       "381892      []  478,123 in Beauty & Personal Care (   \n",
       "381893      []  478,123 in Beauty & Personal Care (   \n",
       "381894      []  478,123 in Beauty & Personal Care (   \n",
       "381895      []  478,123 in Beauty & Personal Care (   \n",
       "381896      []  478,123 in Beauty & Personal Care (   \n",
       "\n",
       "                                                also_view    main_cat date  \\\n",
       "0       ['3254895630', 'B007VL1D9S', 'B00EH9A0RI', 'B0...  All Beauty  NaN   \n",
       "1       ['3254895630', 'B007VL1D9S', 'B00EH9A0RI', 'B0...  All Beauty  NaN   \n",
       "2       ['3254895630', 'B007VL1D9S', 'B00EH9A0RI', 'B0...  All Beauty  NaN   \n",
       "3       ['3254895630', 'B007VL1D9S', 'B00EH9A0RI', 'B0...  All Beauty  NaN   \n",
       "4       ['3254895630', 'B007VL1D9S', 'B00EH9A0RI', 'B0...  All Beauty  NaN   \n",
       "...                                                   ...         ...  ...   \n",
       "381892                       ['B06XNM7CGD', 'B071D7TMQS']  All Beauty  NaN   \n",
       "381893                       ['B06XNM7CGD', 'B071D7TMQS']  All Beauty  NaN   \n",
       "381894                       ['B06XNM7CGD', 'B071D7TMQS']  All Beauty  NaN   \n",
       "381895                       ['B06XNM7CGD', 'B071D7TMQS']  All Beauty  NaN   \n",
       "381896                       ['B06XNM7CGD', 'B071D7TMQS']  All Beauty  NaN   \n",
       "\n",
       "         price                                         review_txt rating_class  \n",
       "0       $12.15                     Five Stars Excellent very good         good  \n",
       "1       $12.15                           Five Stars Great product         good  \n",
       "2       $12.15                                 Five Stars Magical         good  \n",
       "3       $12.15                            Five Stars Excellent!!!         good  \n",
       "4       $12.15  Very pricey I do like the product a lot...I ha...         good  \n",
       "...        ...                                                ...          ...  \n",
       "381892     NaN  It was super frizzy and I tried to comb it and...          bad  \n",
       "381893     NaN  Awesome I was skeptical about buying this.  Wo...         good  \n",
       "381894     NaN                Five Stars Makes me look good fast.         good  \n",
       "381895     NaN  Ok but color way off and volume as well Way li...          bad  \n",
       "381896     NaN  Might return for a replacement if I could. No ...          bad  \n",
       "\n",
       "[381897 rows x 19 columns]"
      ]
     },
     "execution_count": 244,
     "metadata": {},
     "output_type": "execute_result"
    }
   ],
   "source": [
    "product_reviews_2\n"
   ]
  },
  {
   "cell_type": "code",
   "execution_count": 245,
   "id": "49aeb4c8",
   "metadata": {},
   "outputs": [],
   "source": [
    "X_train, X_test, y_train, y_test = train_test_split(x, y, test_size=0.2, random_state = 42)"
   ]
  },
  {
   "cell_type": "code",
   "execution_count": 246,
   "id": "148128d0",
   "metadata": {},
   "outputs": [
    {
     "data": {
      "text/plain": [
       "(305517, 2)"
      ]
     },
     "execution_count": 246,
     "metadata": {},
     "output_type": "execute_result"
    }
   ],
   "source": [
    "X_train.shape"
   ]
  },
  {
   "cell_type": "code",
   "execution_count": 247,
   "id": "2f2c465f",
   "metadata": {},
   "outputs": [
    {
     "data": {
      "text/plain": [
       "(305517,)"
      ]
     },
     "execution_count": 247,
     "metadata": {},
     "output_type": "execute_result"
    }
   ],
   "source": [
    "y_train.shape"
   ]
  },
  {
   "cell_type": "code",
   "execution_count": 248,
   "id": "725ea814",
   "metadata": {},
   "outputs": [
    {
     "data": {
      "text/plain": [
       "(76380, 2)"
      ]
     },
     "execution_count": 248,
     "metadata": {},
     "output_type": "execute_result"
    }
   ],
   "source": [
    "X_test.shape"
   ]
  },
  {
   "cell_type": "code",
   "execution_count": 249,
   "id": "223d75b8",
   "metadata": {},
   "outputs": [
    {
     "data": {
      "text/plain": [
       "(76380,)"
      ]
     },
     "execution_count": 249,
     "metadata": {},
     "output_type": "execute_result"
    }
   ],
   "source": [
    "y_test.shape"
   ]
  },
  {
   "cell_type": "code",
   "execution_count": 250,
   "id": "0e09b8c8",
   "metadata": {},
   "outputs": [
    {
     "data": {
      "text/plain": [
       "<AxesSubplot:ylabel='rating'>"
      ]
     },
     "execution_count": 250,
     "metadata": {},
     "output_type": "execute_result"
    },
    {
     "data": {
      "image/png": "[encoded data removed]",
      "text/plain": [
       "<Figure size 432x288 with 1 Axes>"
      ]
     },
     "metadata": {},
     "output_type": "display_data"
    }
   ],
   "source": [
    "# pie chart of training set\n",
    "y_train.value_counts().plot.pie(autopct='%.2f%%')"
   ]
  },
  {
   "cell_type": "code",
   "execution_count": 251,
   "id": "05ce65ac",
   "metadata": {},
   "outputs": [
    {
     "data": {
      "text/plain": [
       "5    188530\n",
       "4     43394\n",
       "1     32457\n",
       "3     24340\n",
       "2     16796\n",
       "Name: rating, dtype: int64"
      ]
     },
     "execution_count": 251,
     "metadata": {},
     "output_type": "execute_result"
    }
   ],
   "source": [
    "y_train.value_counts()"
   ]
  },
  {
   "cell_type": "code",
   "execution_count": 252,
   "id": "67559d1f",
   "metadata": {},
   "outputs": [],
   "source": [
    "#class balancing"
   ]
  },
  {
   "cell_type": "code",
   "execution_count": 253,
   "id": "76c0aaf0",
   "metadata": {},
   "outputs": [],
   "source": [
    "#random undersampling\n",
    "from collections import Counter\n",
    "from imblearn.datasets import make_imbalance\n",
    "from imblearn.under_sampling import NearMiss\n",
    "from imblearn.pipeline import make_pipeline\n",
    "from imblearn.metrics import classification_report_imbalanced\n",
    "from sklearn.preprocessing import StandardScaler\n",
    "from sklearn.linear_model import LogisticRegression"
   ]
  },
  {
   "cell_type": "code",
   "execution_count": 254,
   "id": "f72801cd",
   "metadata": {},
   "outputs": [],
   "source": [
    "# Create a pipeline\n",
    "pipeline = make_pipeline(\n",
    "    NearMiss(version=2), StandardScaler(), LogisticRegression( random_state = 42)\n",
    ")"
   ]
  },
  {
   "cell_type": "code",
   "execution_count": null,
   "id": "a8b8a56a",
   "metadata": {},
   "outputs": [],
   "source": [
    "pipeline.fit(X_train, y_train)\n"
   ]
  },
  {
   "cell_type": "code",
   "execution_count": null,
   "id": "a2bbaf5b",
   "metadata": {},
   "outputs": [],
   "source": [
    "# Classify and report the results\n",
    "print(classification_report_imbalanced(y_test, pipeline.predict(X_test)))"
   ]
  },
  {
   "cell_type": "code",
   "execution_count": null,
   "id": "2fe11922",
   "metadata": {},
   "outputs": [],
   "source": []
  },
  {
   "cell_type": "code",
   "execution_count": null,
   "id": "3a5d3d76",
   "metadata": {},
   "outputs": [],
   "source": []
  }
 ],
 "metadata": {
  "kernelspec": {
   "display_name": "Python 3 (ipykernel)",
   "language": "python",
   "name": "python3"
  },
  "language_info": {
   "codemirror_mode": {
    "name": "ipython",
    "version": 3
   },
   "file_extension": ".py",
   "mimetype": "text/x-python",
   "name": "python",
   "nbconvert_exporter": "python",
   "pygments_lexer": "ipython3",
   "version": "3.9.5"
  }
 },
 "nbformat": 4,
 "nbformat_minor": 5
}
